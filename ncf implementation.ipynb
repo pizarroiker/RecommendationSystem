{
 "cells": [
  {
   "cell_type": "markdown",
   "metadata": {},
   "source": [
    "## Cargar Librerías"
   ]
  },
  {
   "cell_type": "code",
   "execution_count": 1,
   "metadata": {},
   "outputs": [],
   "source": [
    "import pandas as pd\n",
    "import tensorflow as tf\n",
    "from tensorflow import keras\n",
    "from sklearn.metrics import mean_squared_error, mean_absolute_error\n",
    "from math import sqrt"
   ]
  },
  {
   "cell_type": "markdown",
   "metadata": {},
   "source": [
    "## Cargar Datasets"
   ]
  },
  {
   "cell_type": "code",
   "execution_count": 2,
   "metadata": {},
   "outputs": [],
   "source": [
    "train_data = pd.read_csv('train_dataset.csv')\n",
    "test_data = pd.read_csv('test_dataset.csv')"
   ]
  },
  {
   "cell_type": "markdown",
   "metadata": {},
   "source": [
    "## Datos Evaluación"
   ]
  },
  {
   "cell_type": "code",
   "execution_count": 3,
   "metadata": {},
   "outputs": [],
   "source": [
    "# Separar los datos de evaluación\n",
    "X_test_user = test_data['user_index']\n",
    "X_test_book = test_data['book_index']\n",
    "X_test_features = test_data.drop(['user_index', 'book_index', 'normalized_rating', 'user_id', 'book_id'], axis=1)\n",
    "y_test = test_data['normalized_rating']"
   ]
  },
  {
   "cell_type": "markdown",
   "metadata": {},
   "source": [
    "## Datos Entrenamiento"
   ]
  },
  {
   "cell_type": "code",
   "execution_count": 4,
   "metadata": {},
   "outputs": [],
   "source": [
    "# Separar los datos de entrenamiento\n",
    "X_train_user = train_data['user_index']\n",
    "X_train_book = train_data['book_index']\n",
    "X_train_additional = train_data.drop(['user_index', 'book_index', 'normalized_rating', 'user_id', 'book_id'], axis=1)\n",
    "y_train = train_data['normalized_rating']\n",
    "\n",
    "n_users = train_data['user_index'].max() + 1\n",
    "n_books = train_data['book_index'].max() + 1"
   ]
  },
  {
   "cell_type": "markdown",
   "metadata": {},
   "source": [
    "## Modelo"
   ]
  },
  {
   "cell_type": "code",
   "execution_count": 5,
   "metadata": {},
   "outputs": [],
   "source": [
    "def create_model(num_users, num_books):\n",
    "    # Definir variables clave\n",
    "    embedding_size = 50  # Tamaño del embedding\n",
    "\n",
    "    # Input para el filtrado colaborativo (usuarios y libros)\n",
    "    user_input = keras.layers.Input(shape=(1,), name='user_input')\n",
    "    book_input = keras.layers.Input(shape=(1,), name='book_input')\n",
    "\n",
    "    # Embeddings para usuarios y libros\n",
    "    user_embedding = keras.layers.Embedding(input_dim=num_users, output_dim=embedding_size, name='user_embedding')(user_input)\n",
    "    book_embedding = keras.layers.Embedding(input_dim=num_books, output_dim=embedding_size, name='book_embedding')(book_input)\n",
    "\n",
    "    # Aplanar los embeddings\n",
    "    user_vector = keras.layers.Flatten()(user_embedding)\n",
    "    book_vector = keras.layers.Flatten()(book_embedding)\n",
    "\n",
    "    # Concatenación de los embeddings (filtrado colaborativo)\n",
    "    collaborative_vector = keras.layers.Concatenate()([user_vector, book_vector])\n",
    "\n",
    "    # Input para características adicionales del libro\n",
    "    book_features_input = keras.Input(shape=(104,), name='book_features_input')\n",
    "\n",
    "    # Red densa para procesar las características del contenido del libro\n",
    "    x = keras.layers.Dense(128, activation='relu')(book_features_input)\n",
    "    x = keras.layers.Dense(64, activation='relu')(x)\n",
    "\n",
    "    # Combinar las representaciones colaborativa y de características de contenido\n",
    "    combined_vector = keras.layers.Concatenate()([collaborative_vector, x])\n",
    "\n",
    "    # Pasar por capas densas adicionales\n",
    "    x = keras.layers.Dense(64, activation='relu')(combined_vector)\n",
    "    x = keras.layers.Dense(32, activation='relu')(x)\n",
    "    output = keras.layers.Dense(1, activation='sigmoid')(x)\n",
    "\n",
    "    # Definir el modelo final\n",
    "    model = keras.Model(inputs=[user_input, book_input, book_features_input], outputs=output)\n",
    "\n",
    "    # Compilar el modelo\n",
    "    model.compile(optimizer='adam', loss='mean_squared_error', metrics=['mean_absolute_error'])\n",
    "\n",
    "    return model"
   ]
  },
  {
   "cell_type": "markdown",
   "metadata": {},
   "source": [
    "## Crear y Entrenar Modelo"
   ]
  },
  {
   "cell_type": "code",
   "execution_count": 6,
   "metadata": {},
   "outputs": [
    {
     "name": "stdout",
     "output_type": "stream",
     "text": [
      "Epoch 1/10\n",
      "795/795 [==============================] - 4s 4ms/step - loss: 0.0563 - mean_absolute_error: 0.1904 - val_loss: 0.0518 - val_mean_absolute_error: 0.1815\n",
      "Epoch 2/10\n",
      "795/795 [==============================] - 3s 3ms/step - loss: 0.0401 - mean_absolute_error: 0.1554 - val_loss: 0.0520 - val_mean_absolute_error: 0.1826\n",
      "Epoch 3/10\n",
      "795/795 [==============================] - 3s 4ms/step - loss: 0.0312 - mean_absolute_error: 0.1341 - val_loss: 0.0542 - val_mean_absolute_error: 0.1822\n",
      "Epoch 4/10\n",
      "795/795 [==============================] - 3s 3ms/step - loss: 0.0259 - mean_absolute_error: 0.1181 - val_loss: 0.0554 - val_mean_absolute_error: 0.1824\n",
      "Epoch 5/10\n",
      "795/795 [==============================] - 3s 3ms/step - loss: 0.0221 - mean_absolute_error: 0.1058 - val_loss: 0.0586 - val_mean_absolute_error: 0.1856\n",
      "Epoch 6/10\n",
      "795/795 [==============================] - 3s 3ms/step - loss: 0.0191 - mean_absolute_error: 0.0959 - val_loss: 0.0589 - val_mean_absolute_error: 0.1861\n",
      "Epoch 7/10\n",
      "795/795 [==============================] - 3s 3ms/step - loss: 0.0163 - mean_absolute_error: 0.0868 - val_loss: 0.0619 - val_mean_absolute_error: 0.1906\n",
      "Epoch 8/10\n",
      "795/795 [==============================] - 3s 3ms/step - loss: 0.0136 - mean_absolute_error: 0.0791 - val_loss: 0.0637 - val_mean_absolute_error: 0.1922\n",
      "Epoch 9/10\n",
      "795/795 [==============================] - 3s 4ms/step - loss: 0.0111 - mean_absolute_error: 0.0709 - val_loss: 0.0641 - val_mean_absolute_error: 0.1924\n",
      "Epoch 10/10\n",
      "795/795 [==============================] - 3s 4ms/step - loss: 0.0088 - mean_absolute_error: 0.0631 - val_loss: 0.0655 - val_mean_absolute_error: 0.1935\n"
     ]
    },
    {
     "data": {
      "text/plain": [
       "<keras.callbacks.History at 0x26f9998b580>"
      ]
     },
     "execution_count": 6,
     "metadata": {},
     "output_type": "execute_result"
    }
   ],
   "source": [
    "model = create_model(n_users, n_books)\n",
    "model.fit([X_train_user, X_train_book, X_train_additional], y_train, epochs=10, batch_size=64, validation_split=0.2)"
   ]
  },
  {
   "cell_type": "markdown",
   "metadata": {},
   "source": [
    "## Evaluar modelo"
   ]
  },
  {
   "cell_type": "code",
   "execution_count": 7,
   "metadata": {},
   "outputs": [
    {
     "name": "stdout",
     "output_type": "stream",
     "text": [
      "497/497 [==============================] - 1s 974us/step\n",
      "Mean Squared Error (MSE): 0.06751133912365978\n",
      "Mean Absolute Error (MAE): 0.19679015340184094\n"
     ]
    }
   ],
   "source": [
    "y_pred = model.predict([X_test_user, X_test_book, X_test_features])\n",
    "# Calcular las métricas de evaluación\n",
    "mse = mean_squared_error(y_test, y_pred)\n",
    "mae = mean_absolute_error(y_test, y_pred)\n",
    "rmse = sqrt(mse)\n",
    "\n",
    "print(f'Mean Squared Error (MSE): {mse}')\n",
    "print(f'Mean Absolute Error (MAE): {mae}')"
   ]
  },
  {
   "cell_type": "markdown",
   "metadata": {},
   "source": [
    "## Optimizar modelo"
   ]
  },
  {
   "cell_type": "code",
   "execution_count": null,
   "metadata": {},
   "outputs": [],
   "source": []
  }
 ],
 "metadata": {
  "kernelspec": {
   "display_name": "recommendador",
   "language": "python",
   "name": "python3"
  },
  "language_info": {
   "codemirror_mode": {
    "name": "ipython",
    "version": 3
   },
   "file_extension": ".py",
   "mimetype": "text/x-python",
   "name": "python",
   "nbconvert_exporter": "python",
   "pygments_lexer": "ipython3",
   "version": "3.8.19"
  }
 },
 "nbformat": 4,
 "nbformat_minor": 2
}
