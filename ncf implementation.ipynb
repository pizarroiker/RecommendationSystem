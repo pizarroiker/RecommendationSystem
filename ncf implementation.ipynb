{
 "cells": [
  {
   "cell_type": "markdown",
   "metadata": {},
   "source": [
    "## Cargar Librerías"
   ]
  },
  {
   "cell_type": "code",
   "execution_count": 1,
   "metadata": {},
   "outputs": [],
   "source": [
    "import pandas as pd\n",
    "import tensorflow as tf\n",
    "from tensorflow import keras"
   ]
  },
  {
   "cell_type": "markdown",
   "metadata": {},
   "source": [
    "## Cargar Datasets"
   ]
  },
  {
   "cell_type": "code",
   "execution_count": 2,
   "metadata": {},
   "outputs": [],
   "source": [
    "train_data = pd.read_csv('train_dataset.csv')\n",
    "test_data = pd.read_csv('test_dataset.csv')"
   ]
  },
  {
   "cell_type": "markdown",
   "metadata": {},
   "source": [
    "## Datos Evaluación"
   ]
  },
  {
   "cell_type": "code",
   "execution_count": 3,
   "metadata": {},
   "outputs": [],
   "source": [
    "# Separar los datos de evaluación\n",
    "X_test_user = test_data['user_index']\n",
    "X_test_book = test_data['book_index']\n",
    "X_test_features = test_data.drop(['user_index', 'book_index', 'normalized_rating', 'user_id', 'book_id'], axis=1)\n",
    "y_test = test_data['normalized_rating']"
   ]
  },
  {
   "cell_type": "markdown",
   "metadata": {},
   "source": [
    "## Datos Entrenamiento"
   ]
  },
  {
   "cell_type": "code",
   "execution_count": 4,
   "metadata": {},
   "outputs": [],
   "source": [
    "# Separar los datos de entrenamiento\n",
    "X_train_user = train_data['user_index']\n",
    "X_train_book = train_data['book_index']\n",
    "X_train_additional = train_data.drop(['user_index', 'book_index', 'normalized_rating', 'user_id', 'book_id'], axis=1)\n",
    "y_train = train_data['normalized_rating']\n",
    "\n",
    "n_users = train_data['user_index'].max() + 1\n",
    "n_books = train_data['book_index'].max() + 1"
   ]
  },
  {
   "cell_type": "markdown",
   "metadata": {},
   "source": [
    "## Modelo"
   ]
  },
  {
   "cell_type": "code",
   "execution_count": 13,
   "metadata": {},
   "outputs": [],
   "source": [
    "def create_model(num_users, num_books):\n",
    "    # Definir variables clave\n",
    "    embedding_size = 100  # Tamaño del embedding\n",
    "\n",
    "    # Input para el filtrado colaborativo (usuarios y libros)\n",
    "    user_input = keras.layers.Input(shape=(1,), name='user_input')\n",
    "    book_input = keras.layers.Input(shape=(1,), name='book_input')\n",
    "\n",
    "    # Embeddings para usuarios y libros\n",
    "    user_embedding = keras.layers.Embedding(input_dim=num_users, output_dim=embedding_size, name='user_embedding')(user_input)\n",
    "    book_embedding = keras.layers.Embedding(input_dim=num_books, output_dim=embedding_size, name='book_embedding')(book_input)\n",
    "\n",
    "    # Aplanar los embeddings\n",
    "    user_vector = keras.layers.Flatten()(user_embedding)\n",
    "    book_vector = keras.layers.Flatten()(book_embedding)\n",
    "\n",
    "    # Concatenación de los embeddings (filtrado colaborativo)\n",
    "    collaborative_vector = keras.layers.Concatenate()([user_vector, book_vector])\n",
    "\n",
    "    # Input para características adicionales del libro\n",
    "    book_features_input = keras.Input(shape=(104,), name='book_features_input')\n",
    "\n",
    "    # Red densa para procesar las características del contenido del libro\n",
    "    x = keras.layers.Dense(128, activation='relu')(book_features_input)\n",
    "    x = keras.layers.Dense(64, activation='relu')(x)\n",
    "\n",
    "    # Combinar las representaciones colaborativa y de características de contenido\n",
    "    combined_vector = keras.layers.Concatenate()([collaborative_vector, x])\n",
    "\n",
    "    # Pasar por capas densas adicionales\n",
    "    x = keras.layers.Dense(64, activation='relu')(combined_vector)\n",
    "    x = keras.layers.Dense(32, activation='relu')(x)\n",
    "    output = keras.layers.Dense(1, activation='sigmoid')(x)\n",
    "\n",
    "    # Definir el modelo final\n",
    "    model = keras.Model(inputs=[user_input, book_input, book_features_input], outputs=output)\n",
    "\n",
    "    # Compilar el modelo\n",
    "    model.compile(optimizer='adam', loss='mean_squared_error', metrics=['mean_absolute_error'])\n",
    "\n",
    "    return model"
   ]
  },
  {
   "cell_type": "markdown",
   "metadata": {},
   "source": [
    "## Crear y Entrenar Modelo"
   ]
  },
  {
   "cell_type": "code",
   "execution_count": 14,
   "metadata": {},
   "outputs": [
    {
     "name": "stdout",
     "output_type": "stream",
     "text": [
      "Epoch 1/10\n"
     ]
    },
    {
     "ename": "ValueError",
     "evalue": "in user code:\n\n    File \"c:\\Users\\ikera\\miniconda3\\envs\\recommendador\\lib\\site-packages\\keras\\engine\\training.py\", line 1160, in train_function  *\n        return step_function(self, iterator)\n    File \"c:\\Users\\ikera\\miniconda3\\envs\\recommendador\\lib\\site-packages\\keras\\engine\\training.py\", line 1146, in step_function  **\n        outputs = model.distribute_strategy.run(run_step, args=(data,))\n    File \"c:\\Users\\ikera\\miniconda3\\envs\\recommendador\\lib\\site-packages\\keras\\engine\\training.py\", line 1135, in run_step  **\n        outputs = model.train_step(data)\n    File \"c:\\Users\\ikera\\miniconda3\\envs\\recommendador\\lib\\site-packages\\keras\\engine\\training.py\", line 993, in train_step\n        y_pred = self(x, training=True)\n    File \"c:\\Users\\ikera\\miniconda3\\envs\\recommendador\\lib\\site-packages\\keras\\utils\\traceback_utils.py\", line 70, in error_handler\n        raise e.with_traceback(filtered_tb) from None\n    File \"c:\\Users\\ikera\\miniconda3\\envs\\recommendador\\lib\\site-packages\\keras\\engine\\input_spec.py\", line 216, in assert_input_compatibility\n        raise ValueError(\n\n    ValueError: Layer \"model_2\" expects 2 input(s), but it received 3 input tensors. Inputs received: [<tf.Tensor 'IteratorGetNext:0' shape=(None, 1) dtype=int64>, <tf.Tensor 'IteratorGetNext:1' shape=(None, 1) dtype=int64>, <tf.Tensor 'IteratorGetNext:2' shape=(None, 104) dtype=float64>]\n",
     "output_type": "error",
     "traceback": [
      "\u001b[1;31m---------------------------------------------------------------------------\u001b[0m",
      "\u001b[1;31mValueError\u001b[0m                                Traceback (most recent call last)",
      "Cell \u001b[1;32mIn[14], line 2\u001b[0m\n\u001b[0;32m      1\u001b[0m model \u001b[38;5;241m=\u001b[39m create_model(n_users, n_books)\n\u001b[1;32m----> 2\u001b[0m \u001b[43mmodel\u001b[49m\u001b[38;5;241;43m.\u001b[39;49m\u001b[43mfit\u001b[49m\u001b[43m(\u001b[49m\u001b[43m[\u001b[49m\u001b[43mX_train_user\u001b[49m\u001b[43m,\u001b[49m\u001b[43m \u001b[49m\u001b[43mX_train_book\u001b[49m\u001b[43m,\u001b[49m\u001b[43m \u001b[49m\u001b[43mX_train_additional\u001b[49m\u001b[43m]\u001b[49m\u001b[43m,\u001b[49m\u001b[43m \u001b[49m\u001b[43my_train\u001b[49m\u001b[43m,\u001b[49m\u001b[43m \u001b[49m\u001b[43mepochs\u001b[49m\u001b[38;5;241;43m=\u001b[39;49m\u001b[38;5;241;43m10\u001b[39;49m\u001b[43m,\u001b[49m\u001b[43m \u001b[49m\u001b[43mbatch_size\u001b[49m\u001b[38;5;241;43m=\u001b[39;49m\u001b[38;5;241;43m64\u001b[39;49m\u001b[43m,\u001b[49m\u001b[43m \u001b[49m\u001b[43mvalidation_split\u001b[49m\u001b[38;5;241;43m=\u001b[39;49m\u001b[38;5;241;43m0.2\u001b[39;49m\u001b[43m)\u001b[49m\n",
      "File \u001b[1;32mc:\\Users\\ikera\\miniconda3\\envs\\recommendador\\lib\\site-packages\\keras\\utils\\traceback_utils.py:70\u001b[0m, in \u001b[0;36mfilter_traceback.<locals>.error_handler\u001b[1;34m(*args, **kwargs)\u001b[0m\n\u001b[0;32m     67\u001b[0m     filtered_tb \u001b[38;5;241m=\u001b[39m _process_traceback_frames(e\u001b[38;5;241m.\u001b[39m__traceback__)\n\u001b[0;32m     68\u001b[0m     \u001b[38;5;66;03m# To get the full stack trace, call:\u001b[39;00m\n\u001b[0;32m     69\u001b[0m     \u001b[38;5;66;03m# `tf.debugging.disable_traceback_filtering()`\u001b[39;00m\n\u001b[1;32m---> 70\u001b[0m     \u001b[38;5;28;01mraise\u001b[39;00m e\u001b[38;5;241m.\u001b[39mwith_traceback(filtered_tb) \u001b[38;5;28;01mfrom\u001b[39;00m \u001b[38;5;28;01mNone\u001b[39;00m\n\u001b[0;32m     71\u001b[0m \u001b[38;5;28;01mfinally\u001b[39;00m:\n\u001b[0;32m     72\u001b[0m     \u001b[38;5;28;01mdel\u001b[39;00m filtered_tb\n",
      "File \u001b[1;32m~\\AppData\\Local\\Temp\\__autograph_generated_file0upynuk3.py:15\u001b[0m, in \u001b[0;36mouter_factory.<locals>.inner_factory.<locals>.tf__train_function\u001b[1;34m(iterator)\u001b[0m\n\u001b[0;32m     13\u001b[0m \u001b[38;5;28;01mtry\u001b[39;00m:\n\u001b[0;32m     14\u001b[0m     do_return \u001b[38;5;241m=\u001b[39m \u001b[38;5;28;01mTrue\u001b[39;00m\n\u001b[1;32m---> 15\u001b[0m     retval_ \u001b[38;5;241m=\u001b[39m ag__\u001b[38;5;241m.\u001b[39mconverted_call(ag__\u001b[38;5;241m.\u001b[39mld(step_function), (ag__\u001b[38;5;241m.\u001b[39mld(\u001b[38;5;28mself\u001b[39m), ag__\u001b[38;5;241m.\u001b[39mld(iterator)), \u001b[38;5;28;01mNone\u001b[39;00m, fscope)\n\u001b[0;32m     16\u001b[0m \u001b[38;5;28;01mexcept\u001b[39;00m:\n\u001b[0;32m     17\u001b[0m     do_return \u001b[38;5;241m=\u001b[39m \u001b[38;5;28;01mFalse\u001b[39;00m\n",
      "\u001b[1;31mValueError\u001b[0m: in user code:\n\n    File \"c:\\Users\\ikera\\miniconda3\\envs\\recommendador\\lib\\site-packages\\keras\\engine\\training.py\", line 1160, in train_function  *\n        return step_function(self, iterator)\n    File \"c:\\Users\\ikera\\miniconda3\\envs\\recommendador\\lib\\site-packages\\keras\\engine\\training.py\", line 1146, in step_function  **\n        outputs = model.distribute_strategy.run(run_step, args=(data,))\n    File \"c:\\Users\\ikera\\miniconda3\\envs\\recommendador\\lib\\site-packages\\keras\\engine\\training.py\", line 1135, in run_step  **\n        outputs = model.train_step(data)\n    File \"c:\\Users\\ikera\\miniconda3\\envs\\recommendador\\lib\\site-packages\\keras\\engine\\training.py\", line 993, in train_step\n        y_pred = self(x, training=True)\n    File \"c:\\Users\\ikera\\miniconda3\\envs\\recommendador\\lib\\site-packages\\keras\\utils\\traceback_utils.py\", line 70, in error_handler\n        raise e.with_traceback(filtered_tb) from None\n    File \"c:\\Users\\ikera\\miniconda3\\envs\\recommendador\\lib\\site-packages\\keras\\engine\\input_spec.py\", line 216, in assert_input_compatibility\n        raise ValueError(\n\n    ValueError: Layer \"model_2\" expects 2 input(s), but it received 3 input tensors. Inputs received: [<tf.Tensor 'IteratorGetNext:0' shape=(None, 1) dtype=int64>, <tf.Tensor 'IteratorGetNext:1' shape=(None, 1) dtype=int64>, <tf.Tensor 'IteratorGetNext:2' shape=(None, 104) dtype=float64>]\n"
     ]
    }
   ],
   "source": [
    "model = create_model(n_users, n_books)\n",
    "model.fit([X_train_user, X_train_book, X_train_additional], y_train, epochs=10, batch_size=64, validation_split=0.2)"
   ]
  },
  {
   "cell_type": "markdown",
   "metadata": {},
   "source": [
    "## Predicción del modelo"
   ]
  },
  {
   "cell_type": "code",
   "execution_count": 11,
   "metadata": {},
   "outputs": [
    {
     "name": "stdout",
     "output_type": "stream",
     "text": [
      "497/497 [==============================] - 1s 1ms/step\n"
     ]
    }
   ],
   "source": [
    "y_pred = model.predict([X_test_user, X_test_book, X_test_features])\n",
    "y_pred = y_pred.flatten()"
   ]
  },
  {
   "cell_type": "markdown",
   "metadata": {},
   "source": [
    "## Métricas del modelo"
   ]
  },
  {
   "cell_type": "code",
   "execution_count": 12,
   "metadata": {},
   "outputs": [
    {
     "name": "stdout",
     "output_type": "stream",
     "text": [
      "MSE: 0.06853379636177609\n",
      "RMSE: 0.26178960323468936\n",
      "MAE: 0.19887129442380075\n",
      "R-squared: -0.11984777840211969\n",
      "MAPE: 32.610764423944254%\n"
     ]
    }
   ],
   "source": [
    "from sklearn.metrics import mean_squared_error, mean_absolute_error, r2_score\n",
    "import numpy as np\n",
    "\n",
    "# MSE\n",
    "mse = mean_squared_error(y_test, y_pred)\n",
    "print(f\"MSE: {mse}\")\n",
    "\n",
    "# RMSE\n",
    "rmse = np.sqrt(mse)\n",
    "print(f\"RMSE: {rmse}\")\n",
    "\n",
    "# MAE\n",
    "mae = mean_absolute_error(y_test, y_pred)\n",
    "print(f\"MAE: {mae}\")\n",
    "\n",
    "# R-squared\n",
    "r2 = r2_score(y_test, y_pred)\n",
    "print(f\"R-squared: {r2}\")\n",
    "\n",
    "# Mean Absolute Percentage Error (MAPE)\n",
    "def mean_absolute_percentage_error(y_true, y_pred): \n",
    "    # Evitar divisiones por cero\n",
    "    non_zero_indices = y_true != 0\n",
    "    y_true_filtered = y_true[non_zero_indices]\n",
    "    y_pred_filtered = y_pred[non_zero_indices]\n",
    "    \n",
    "    # Calcular el MAPE solo para los valores no cero\n",
    "    return np.mean(np.abs((y_true_filtered - y_pred_filtered) / y_true_filtered)) * 100\n",
    "\n",
    "# Ahora puedes calcular el MAPE sin que dé infinito\n",
    "mape = mean_absolute_percentage_error(y_test, y_pred)\n",
    "print(f\"MAPE: {mape}%\")\n",
    "\n",
    "\n"
   ]
  },
  {
   "cell_type": "markdown",
   "metadata": {},
   "source": [
    "## Modelo optimizado"
   ]
  },
  {
   "cell_type": "code",
   "execution_count": 66,
   "metadata": {},
   "outputs": [
    {
     "name": "stdout",
     "output_type": "stream",
     "text": [
      "Epoch 1/100\n",
      "25/25 [==============================] - 1s 16ms/step - loss: 2.8874 - mean_absolute_error: 0.2516 - val_loss: 2.8303 - val_mean_absolute_error: 0.2400\n",
      "Epoch 2/100\n",
      "25/25 [==============================] - 0s 6ms/step - loss: 2.7847 - mean_absolute_error: 0.2350 - val_loss: 2.7322 - val_mean_absolute_error: 0.2244\n",
      "Epoch 3/100\n",
      "25/25 [==============================] - 0s 5ms/step - loss: 2.6901 - mean_absolute_error: 0.2233 - val_loss: 2.6412 - val_mean_absolute_error: 0.2153\n",
      "Epoch 4/100\n",
      "25/25 [==============================] - 0s 5ms/step - loss: 2.6012 - mean_absolute_error: 0.2168 - val_loss: 2.5548 - val_mean_absolute_error: 0.2113\n",
      "Epoch 5/100\n",
      "25/25 [==============================] - 0s 6ms/step - loss: 2.5162 - mean_absolute_error: 0.2134 - val_loss: 2.4717 - val_mean_absolute_error: 0.2089\n",
      "Epoch 6/100\n",
      "25/25 [==============================] - 0s 6ms/step - loss: 2.4344 - mean_absolute_error: 0.2113 - val_loss: 2.3914 - val_mean_absolute_error: 0.2074\n",
      "Epoch 7/100\n",
      "25/25 [==============================] - 0s 6ms/step - loss: 2.3554 - mean_absolute_error: 0.2100 - val_loss: 2.3138 - val_mean_absolute_error: 0.2063\n",
      "Epoch 8/100\n",
      "25/25 [==============================] - 0s 6ms/step - loss: 2.2789 - mean_absolute_error: 0.2090 - val_loss: 2.2387 - val_mean_absolute_error: 0.2055\n",
      "Epoch 9/100\n",
      "25/25 [==============================] - 0s 6ms/step - loss: 2.2049 - mean_absolute_error: 0.2083 - val_loss: 2.1661 - val_mean_absolute_error: 0.2048\n",
      "Epoch 10/100\n",
      "25/25 [==============================] - 0s 6ms/step - loss: 2.1333 - mean_absolute_error: 0.2076 - val_loss: 2.0957 - val_mean_absolute_error: 0.2040\n",
      "Epoch 11/100\n",
      "25/25 [==============================] - 0s 5ms/step - loss: 2.0639 - mean_absolute_error: 0.2068 - val_loss: 2.0276 - val_mean_absolute_error: 0.2035\n",
      "Epoch 12/100\n",
      "25/25 [==============================] - 0s 6ms/step - loss: 1.9969 - mean_absolute_error: 0.2061 - val_loss: 1.9617 - val_mean_absolute_error: 0.2028\n",
      "Epoch 13/100\n",
      "25/25 [==============================] - 0s 6ms/step - loss: 1.9319 - mean_absolute_error: 0.2055 - val_loss: 1.8978 - val_mean_absolute_error: 0.2024\n",
      "Epoch 14/100\n",
      "25/25 [==============================] - 0s 6ms/step - loss: 1.8690 - mean_absolute_error: 0.2051 - val_loss: 1.8360 - val_mean_absolute_error: 0.2018\n",
      "Epoch 15/100\n",
      "25/25 [==============================] - 0s 6ms/step - loss: 1.8080 - mean_absolute_error: 0.2045 - val_loss: 1.7761 - val_mean_absolute_error: 0.2014\n",
      "Epoch 16/100\n",
      "25/25 [==============================] - 0s 6ms/step - loss: 1.7490 - mean_absolute_error: 0.2042 - val_loss: 1.7181 - val_mean_absolute_error: 0.2011\n",
      "Epoch 17/100\n",
      "25/25 [==============================] - 0s 6ms/step - loss: 1.6918 - mean_absolute_error: 0.2035 - val_loss: 1.6620 - val_mean_absolute_error: 0.2005\n",
      "Epoch 18/100\n",
      "25/25 [==============================] - 0s 6ms/step - loss: 1.6364 - mean_absolute_error: 0.2030 - val_loss: 1.6076 - val_mean_absolute_error: 0.2001\n",
      "Epoch 19/100\n",
      "25/25 [==============================] - 0s 6ms/step - loss: 1.5828 - mean_absolute_error: 0.2025 - val_loss: 1.5549 - val_mean_absolute_error: 0.1997\n",
      "Epoch 20/100\n",
      "25/25 [==============================] - 0s 6ms/step - loss: 1.5308 - mean_absolute_error: 0.2021 - val_loss: 1.5039 - val_mean_absolute_error: 0.1994\n",
      "Epoch 21/100\n",
      "25/25 [==============================] - 0s 6ms/step - loss: 1.4807 - mean_absolute_error: 0.2018 - val_loss: 1.4545 - val_mean_absolute_error: 0.1989\n",
      "Epoch 22/100\n",
      "25/25 [==============================] - 0s 5ms/step - loss: 1.4319 - mean_absolute_error: 0.2011 - val_loss: 1.4067 - val_mean_absolute_error: 0.1985\n",
      "Epoch 23/100\n",
      "25/25 [==============================] - 0s 6ms/step - loss: 1.3848 - mean_absolute_error: 0.2011 - val_loss: 1.3604 - val_mean_absolute_error: 0.1982\n",
      "Epoch 24/100\n",
      "25/25 [==============================] - 0s 5ms/step - loss: 1.3392 - mean_absolute_error: 0.2006 - val_loss: 1.3155 - val_mean_absolute_error: 0.1978\n",
      "Epoch 25/100\n",
      "25/25 [==============================] - 0s 5ms/step - loss: 1.2949 - mean_absolute_error: 0.2003 - val_loss: 1.2721 - val_mean_absolute_error: 0.1976\n",
      "Epoch 26/100\n",
      "25/25 [==============================] - 0s 5ms/step - loss: 1.2521 - mean_absolute_error: 0.1999 - val_loss: 1.2301 - val_mean_absolute_error: 0.1973\n",
      "Epoch 27/100\n",
      "25/25 [==============================] - 0s 6ms/step - loss: 1.2107 - mean_absolute_error: 0.1996 - val_loss: 1.1894 - val_mean_absolute_error: 0.1969\n",
      "Epoch 28/100\n",
      "25/25 [==============================] - 0s 6ms/step - loss: 1.1707 - mean_absolute_error: 0.1995 - val_loss: 1.1500 - val_mean_absolute_error: 0.1969\n",
      "Epoch 29/100\n",
      "25/25 [==============================] - 0s 5ms/step - loss: 1.1319 - mean_absolute_error: 0.1992 - val_loss: 1.1119 - val_mean_absolute_error: 0.1967\n",
      "Epoch 30/100\n",
      "25/25 [==============================] - 0s 6ms/step - loss: 1.0943 - mean_absolute_error: 0.1990 - val_loss: 1.0751 - val_mean_absolute_error: 0.1963\n",
      "Epoch 31/100\n",
      "25/25 [==============================] - 0s 5ms/step - loss: 1.0579 - mean_absolute_error: 0.1986 - val_loss: 1.0394 - val_mean_absolute_error: 0.1963\n",
      "Epoch 32/100\n",
      "25/25 [==============================] - 0s 6ms/step - loss: 1.0228 - mean_absolute_error: 0.1983 - val_loss: 1.0048 - val_mean_absolute_error: 0.1961\n",
      "Epoch 33/100\n",
      "25/25 [==============================] - 0s 6ms/step - loss: 0.9887 - mean_absolute_error: 0.1982 - val_loss: 0.9714 - val_mean_absolute_error: 0.1959\n",
      "Epoch 34/100\n",
      "25/25 [==============================] - 0s 6ms/step - loss: 0.9557 - mean_absolute_error: 0.1975 - val_loss: 0.9391 - val_mean_absolute_error: 0.1959\n",
      "Epoch 35/100\n",
      "25/25 [==============================] - 0s 6ms/step - loss: 0.9239 - mean_absolute_error: 0.1979 - val_loss: 0.9078 - val_mean_absolute_error: 0.1958\n",
      "Epoch 36/100\n",
      "25/25 [==============================] - 0s 5ms/step - loss: 0.8930 - mean_absolute_error: 0.1972 - val_loss: 0.8775 - val_mean_absolute_error: 0.1955\n",
      "Epoch 37/100\n",
      "25/25 [==============================] - 0s 5ms/step - loss: 0.8632 - mean_absolute_error: 0.1968 - val_loss: 0.8482 - val_mean_absolute_error: 0.1955\n",
      "Epoch 38/100\n",
      "25/25 [==============================] - 0s 5ms/step - loss: 0.8344 - mean_absolute_error: 0.1970 - val_loss: 0.8199 - val_mean_absolute_error: 0.1953\n",
      "Epoch 39/100\n",
      "25/25 [==============================] - 0s 5ms/step - loss: 0.8065 - mean_absolute_error: 0.1964 - val_loss: 0.7925 - val_mean_absolute_error: 0.1953\n",
      "Epoch 40/100\n",
      "25/25 [==============================] - 0s 6ms/step - loss: 0.7796 - mean_absolute_error: 0.1966 - val_loss: 0.7661 - val_mean_absolute_error: 0.1948\n",
      "Epoch 41/100\n",
      "25/25 [==============================] - 0s 6ms/step - loss: 0.7534 - mean_absolute_error: 0.1960 - val_loss: 0.7405 - val_mean_absolute_error: 0.1949\n",
      "Epoch 42/100\n",
      "25/25 [==============================] - 0s 6ms/step - loss: 0.7282 - mean_absolute_error: 0.1961 - val_loss: 0.7157 - val_mean_absolute_error: 0.1952\n",
      "Epoch 43/100\n",
      "25/25 [==============================] - 0s 6ms/step - loss: 0.7038 - mean_absolute_error: 0.1954 - val_loss: 0.6918 - val_mean_absolute_error: 0.1946\n",
      "Epoch 44/100\n",
      "25/25 [==============================] - 0s 6ms/step - loss: 0.6803 - mean_absolute_error: 0.1955 - val_loss: 0.6687 - val_mean_absolute_error: 0.1948\n",
      "Epoch 45/100\n",
      "25/25 [==============================] - 0s 6ms/step - loss: 0.6574 - mean_absolute_error: 0.1950 - val_loss: 0.6464 - val_mean_absolute_error: 0.1947\n",
      "Epoch 46/100\n",
      "25/25 [==============================] - 0s 6ms/step - loss: 0.6354 - mean_absolute_error: 0.1951 - val_loss: 0.6248 - val_mean_absolute_error: 0.1947\n",
      "Epoch 47/100\n",
      "25/25 [==============================] - 0s 6ms/step - loss: 0.6142 - mean_absolute_error: 0.1947 - val_loss: 0.6040 - val_mean_absolute_error: 0.1948\n",
      "Epoch 48/100\n",
      "25/25 [==============================] - 0s 5ms/step - loss: 0.5936 - mean_absolute_error: 0.1945 - val_loss: 0.5839 - val_mean_absolute_error: 0.1947\n",
      "Epoch 49/100\n",
      "25/25 [==============================] - 0s 5ms/step - loss: 0.5738 - mean_absolute_error: 0.1941 - val_loss: 0.5645 - val_mean_absolute_error: 0.1945\n",
      "Epoch 50/100\n",
      "25/25 [==============================] - 0s 6ms/step - loss: 0.5547 - mean_absolute_error: 0.1943 - val_loss: 0.5457 - val_mean_absolute_error: 0.1943\n",
      "Epoch 51/100\n",
      "25/25 [==============================] - 0s 6ms/step - loss: 0.5362 - mean_absolute_error: 0.1939 - val_loss: 0.5276 - val_mean_absolute_error: 0.1944\n",
      "Epoch 52/100\n",
      "25/25 [==============================] - 0s 5ms/step - loss: 0.5183 - mean_absolute_error: 0.1936 - val_loss: 0.5101 - val_mean_absolute_error: 0.1943\n",
      "Epoch 53/100\n",
      "25/25 [==============================] - 0s 5ms/step - loss: 0.5010 - mean_absolute_error: 0.1933 - val_loss: 0.4932 - val_mean_absolute_error: 0.1944\n",
      "Epoch 54/100\n",
      "25/25 [==============================] - 0s 6ms/step - loss: 0.4843 - mean_absolute_error: 0.1931 - val_loss: 0.4769 - val_mean_absolute_error: 0.1938\n",
      "Epoch 55/100\n",
      "25/25 [==============================] - 0s 6ms/step - loss: 0.4683 - mean_absolute_error: 0.1926 - val_loss: 0.4612 - val_mean_absolute_error: 0.1942\n",
      "Epoch 56/100\n",
      "25/25 [==============================] - 0s 5ms/step - loss: 0.4527 - mean_absolute_error: 0.1926 - val_loss: 0.4460 - val_mean_absolute_error: 0.1937\n",
      "Epoch 57/100\n",
      "25/25 [==============================] - 0s 6ms/step - loss: 0.4377 - mean_absolute_error: 0.1922 - val_loss: 0.4313 - val_mean_absolute_error: 0.1936\n",
      "Epoch 58/100\n",
      "25/25 [==============================] - 0s 6ms/step - loss: 0.4233 - mean_absolute_error: 0.1918 - val_loss: 0.4172 - val_mean_absolute_error: 0.1935\n",
      "Epoch 59/100\n",
      "25/25 [==============================] - 0s 6ms/step - loss: 0.4093 - mean_absolute_error: 0.1917 - val_loss: 0.4036 - val_mean_absolute_error: 0.1932\n",
      "Epoch 60/100\n",
      "25/25 [==============================] - 0s 6ms/step - loss: 0.3959 - mean_absolute_error: 0.1913 - val_loss: 0.3905 - val_mean_absolute_error: 0.1935\n",
      "Epoch 61/100\n",
      "25/25 [==============================] - 0s 5ms/step - loss: 0.3828 - mean_absolute_error: 0.1904 - val_loss: 0.3778 - val_mean_absolute_error: 0.1928\n",
      "Epoch 62/100\n",
      "25/25 [==============================] - 0s 5ms/step - loss: 0.3703 - mean_absolute_error: 0.1907 - val_loss: 0.3656 - val_mean_absolute_error: 0.1929\n",
      "Epoch 63/100\n",
      "25/25 [==============================] - 0s 5ms/step - loss: 0.3582 - mean_absolute_error: 0.1898 - val_loss: 0.3539 - val_mean_absolute_error: 0.1927\n",
      "Epoch 64/100\n",
      "25/25 [==============================] - 0s 6ms/step - loss: 0.3466 - mean_absolute_error: 0.1897 - val_loss: 0.3425 - val_mean_absolute_error: 0.1928\n",
      "Epoch 65/100\n",
      "25/25 [==============================] - 0s 5ms/step - loss: 0.3353 - mean_absolute_error: 0.1892 - val_loss: 0.3316 - val_mean_absolute_error: 0.1921\n",
      "Epoch 66/100\n",
      "25/25 [==============================] - 0s 6ms/step - loss: 0.3244 - mean_absolute_error: 0.1882 - val_loss: 0.3211 - val_mean_absolute_error: 0.1920\n",
      "Epoch 67/100\n",
      "25/25 [==============================] - 0s 5ms/step - loss: 0.3140 - mean_absolute_error: 0.1880 - val_loss: 0.3110 - val_mean_absolute_error: 0.1920\n",
      "Epoch 68/100\n",
      "25/25 [==============================] - 0s 5ms/step - loss: 0.3039 - mean_absolute_error: 0.1876 - val_loss: 0.3013 - val_mean_absolute_error: 0.1913\n",
      "Epoch 69/100\n",
      "25/25 [==============================] - 0s 6ms/step - loss: 0.2942 - mean_absolute_error: 0.1862 - val_loss: 0.2919 - val_mean_absolute_error: 0.1916\n",
      "Epoch 70/100\n",
      "25/25 [==============================] - 0s 5ms/step - loss: 0.2847 - mean_absolute_error: 0.1860 - val_loss: 0.2829 - val_mean_absolute_error: 0.1907\n",
      "Epoch 71/100\n",
      "25/25 [==============================] - 0s 5ms/step - loss: 0.2757 - mean_absolute_error: 0.1850 - val_loss: 0.2742 - val_mean_absolute_error: 0.1903\n",
      "Epoch 72/100\n",
      "25/25 [==============================] - 0s 6ms/step - loss: 0.2669 - mean_absolute_error: 0.1839 - val_loss: 0.2659 - val_mean_absolute_error: 0.1895\n",
      "Epoch 73/100\n",
      "25/25 [==============================] - 0s 6ms/step - loss: 0.2584 - mean_absolute_error: 0.1831 - val_loss: 0.2578 - val_mean_absolute_error: 0.1892\n",
      "Epoch 74/100\n",
      "25/25 [==============================] - 0s 6ms/step - loss: 0.2501 - mean_absolute_error: 0.1814 - val_loss: 0.2502 - val_mean_absolute_error: 0.1897\n",
      "Epoch 75/100\n",
      "25/25 [==============================] - 0s 6ms/step - loss: 0.2423 - mean_absolute_error: 0.1806 - val_loss: 0.2428 - val_mean_absolute_error: 0.1880\n",
      "Epoch 76/100\n",
      "25/25 [==============================] - 0s 5ms/step - loss: 0.2346 - mean_absolute_error: 0.1792 - val_loss: 0.2357 - val_mean_absolute_error: 0.1880\n",
      "Epoch 77/100\n",
      "25/25 [==============================] - 0s 6ms/step - loss: 0.2272 - mean_absolute_error: 0.1776 - val_loss: 0.2289 - val_mean_absolute_error: 0.1877\n",
      "Epoch 78/100\n",
      "25/25 [==============================] - 0s 6ms/step - loss: 0.2200 - mean_absolute_error: 0.1757 - val_loss: 0.2224 - val_mean_absolute_error: 0.1873\n",
      "Epoch 79/100\n",
      "25/25 [==============================] - 0s 6ms/step - loss: 0.2130 - mean_absolute_error: 0.1740 - val_loss: 0.2162 - val_mean_absolute_error: 0.1865\n",
      "Epoch 80/100\n",
      "25/25 [==============================] - 0s 6ms/step - loss: 0.2063 - mean_absolute_error: 0.1721 - val_loss: 0.2102 - val_mean_absolute_error: 0.1860\n",
      "Epoch 81/100\n",
      "25/25 [==============================] - 0s 5ms/step - loss: 0.1998 - mean_absolute_error: 0.1700 - val_loss: 0.2045 - val_mean_absolute_error: 0.1850\n",
      "Epoch 82/100\n",
      "25/25 [==============================] - 0s 5ms/step - loss: 0.1935 - mean_absolute_error: 0.1679 - val_loss: 0.1991 - val_mean_absolute_error: 0.1846\n",
      "Epoch 83/100\n",
      "25/25 [==============================] - 0s 5ms/step - loss: 0.1874 - mean_absolute_error: 0.1657 - val_loss: 0.1940 - val_mean_absolute_error: 0.1848\n",
      "Epoch 84/100\n",
      "25/25 [==============================] - 0s 6ms/step - loss: 0.1816 - mean_absolute_error: 0.1634 - val_loss: 0.1889 - val_mean_absolute_error: 0.1835\n",
      "Epoch 85/100\n",
      "25/25 [==============================] - 0s 6ms/step - loss: 0.1759 - mean_absolute_error: 0.1612 - val_loss: 0.1842 - val_mean_absolute_error: 0.1838\n",
      "Epoch 86/100\n",
      "25/25 [==============================] - 0s 5ms/step - loss: 0.1705 - mean_absolute_error: 0.1593 - val_loss: 0.1796 - val_mean_absolute_error: 0.1828\n",
      "Epoch 87/100\n",
      "25/25 [==============================] - 0s 5ms/step - loss: 0.1653 - mean_absolute_error: 0.1573 - val_loss: 0.1752 - val_mean_absolute_error: 0.1825\n",
      "Epoch 88/100\n",
      "25/25 [==============================] - 0s 6ms/step - loss: 0.1603 - mean_absolute_error: 0.1554 - val_loss: 0.1710 - val_mean_absolute_error: 0.1825\n",
      "Epoch 89/100\n",
      "25/25 [==============================] - 0s 6ms/step - loss: 0.1554 - mean_absolute_error: 0.1536 - val_loss: 0.1669 - val_mean_absolute_error: 0.1820\n",
      "Epoch 90/100\n",
      "25/25 [==============================] - 0s 6ms/step - loss: 0.1508 - mean_absolute_error: 0.1520 - val_loss: 0.1631 - val_mean_absolute_error: 0.1822\n",
      "Epoch 91/100\n",
      "25/25 [==============================] - 0s 5ms/step - loss: 0.1463 - mean_absolute_error: 0.1505 - val_loss: 0.1594 - val_mean_absolute_error: 0.1822\n",
      "Epoch 92/100\n",
      "25/25 [==============================] - 0s 6ms/step - loss: 0.1422 - mean_absolute_error: 0.1494 - val_loss: 0.1556 - val_mean_absolute_error: 0.1817\n",
      "Epoch 93/100\n",
      "25/25 [==============================] - 0s 6ms/step - loss: 0.1381 - mean_absolute_error: 0.1481 - val_loss: 0.1522 - val_mean_absolute_error: 0.1820\n",
      "Epoch 94/100\n",
      "25/25 [==============================] - 0s 5ms/step - loss: 0.1342 - mean_absolute_error: 0.1471 - val_loss: 0.1487 - val_mean_absolute_error: 0.1816\n",
      "Epoch 95/100\n",
      "25/25 [==============================] - 0s 6ms/step - loss: 0.1304 - mean_absolute_error: 0.1463 - val_loss: 0.1454 - val_mean_absolute_error: 0.1815\n",
      "Epoch 96/100\n",
      "25/25 [==============================] - 0s 5ms/step - loss: 0.1268 - mean_absolute_error: 0.1453 - val_loss: 0.1423 - val_mean_absolute_error: 0.1814\n",
      "Epoch 97/100\n",
      "25/25 [==============================] - 0s 6ms/step - loss: 0.1234 - mean_absolute_error: 0.1445 - val_loss: 0.1394 - val_mean_absolute_error: 0.1816\n",
      "Epoch 98/100\n",
      "25/25 [==============================] - 0s 5ms/step - loss: 0.1200 - mean_absolute_error: 0.1435 - val_loss: 0.1365 - val_mean_absolute_error: 0.1817\n",
      "Epoch 99/100\n",
      "25/25 [==============================] - 0s 6ms/step - loss: 0.1169 - mean_absolute_error: 0.1427 - val_loss: 0.1336 - val_mean_absolute_error: 0.1815\n",
      "Epoch 100/100\n",
      "25/25 [==============================] - 0s 5ms/step - loss: 0.1139 - mean_absolute_error: 0.1423 - val_loss: 0.1309 - val_mean_absolute_error: 0.1813\n"
     ]
    }
   ],
   "source": [
    "from tensorflow.keras import regularizers\n",
    "\n",
    "def create_improved_model(num_users, num_books, num_features):\n",
    "    embedding_size = 150  # Tamaño del embedding ajustado\n",
    "    \n",
    "    # Inputs de usuarios, libros y características adicionales\n",
    "    user_input = keras.layers.Input(shape=(1,))\n",
    "    book_input = keras.layers.Input(shape=(1,))\n",
    "    features_input = keras.layers.Input(shape=(num_features,))\n",
    "\n",
    "    # Embeddings para usuarios y libros\n",
    "    user_embedding = keras.layers.Embedding(input_dim=num_users, output_dim=embedding_size)(user_input)\n",
    "    book_embedding = keras.layers.Embedding(input_dim=num_books, output_dim=embedding_size)(book_input)\n",
    "\n",
    "    # Aplanar las salidas de embedding\n",
    "    user_vector = keras.layers.Flatten()(user_embedding)\n",
    "    book_vector = keras.layers.Flatten()(book_embedding)\n",
    "\n",
    "    # Concatenar los vectores de usuario, libro y características adicionales\n",
    "    merged = keras.layers.Concatenate()([user_vector, book_vector, features_input])\n",
    "\n",
    "    # Capas densas con regularización L2\n",
    "    hidden_1 = keras.layers.Dense(256, activation='relu', kernel_regularizer=regularizers.l2(0.005))(merged)\n",
    "    dropout_1 = keras.layers.Dropout(0.1)(hidden_1)  # Añadimos Dropout para evitar sobreajuste\n",
    "    \n",
    "    hidden_2 = keras.layers.Dense(128, activation='relu', kernel_regularizer=regularizers.l2(0.005))(dropout_1)\n",
    "    dropout_2 = keras.layers.Dropout(0.1)(hidden_2)\n",
    "    \n",
    "    hidden_3 = keras.layers.Dense(64, activation='relu', kernel_regularizer=regularizers.l2(0.005))(dropout_2)\n",
    "\n",
    "    # Salida (predicción del rating)\n",
    "    output = keras.layers.Dense(1, activation='sigmoid')(hidden_3)\n",
    "\n",
    "    # Definir y compilar el modelo\n",
    "    model = keras.models.Model(inputs=[user_input, book_input, features_input], outputs=output)\n",
    "    model.compile(optimizer=keras.optimizers.Adam(learning_rate=0.00005), loss='mse', metrics=['mean_absolute_error'])\n",
    "    \n",
    "    return model\n",
    "\n",
    "# Crear el nuevo modelo con los hiperparámetros ajustados\n",
    "num_features = X_train_additional.shape[1]  # El número de características adicionales del dataset\n",
    "improved_model = create_improved_model(n_users, n_books, num_features)\n",
    "\n",
    "# Entrenar el modelo\n",
    "history = improved_model.fit([X_train_user, X_train_book, X_train_additional], y_train, epochs=100, batch_size=2048, validation_split=0.2)\n"
   ]
  },
  {
   "cell_type": "markdown",
   "metadata": {},
   "source": [
    "## Predecir con el nuevo modelo"
   ]
  },
  {
   "cell_type": "code",
   "execution_count": 67,
   "metadata": {},
   "outputs": [
    {
     "name": "stdout",
     "output_type": "stream",
     "text": [
      "497/497 [==============================] - 1s 1ms/step\n"
     ]
    }
   ],
   "source": [
    "y_pred = improved_model.predict([X_test_user, X_test_book, X_test_features])\n",
    "y_pred = y_pred.flatten()"
   ]
  },
  {
   "cell_type": "markdown",
   "metadata": {},
   "source": [
    "## Nuevas Métricas"
   ]
  },
  {
   "cell_type": "code",
   "execution_count": 68,
   "metadata": {},
   "outputs": [
    {
     "name": "stdout",
     "output_type": "stream",
     "text": [
      "MSE: 0.05320316046716041\n",
      "RMSE: 0.23065810297312428\n",
      "MAE: 0.183919363627908\n",
      "R-squared: 0.13065605269240876\n",
      "MAPE: 30.31144623862458%\n"
     ]
    }
   ],
   "source": [
    "# MSE\n",
    "mse = mean_squared_error(y_test, y_pred)\n",
    "print(f\"MSE: {mse}\")\n",
    "\n",
    "# RMSE\n",
    "rmse = np.sqrt(mse)\n",
    "print(f\"RMSE: {rmse}\")\n",
    "\n",
    "# MAE\n",
    "mae = mean_absolute_error(y_test, y_pred)\n",
    "print(f\"MAE: {mae}\")\n",
    "\n",
    "# R-squared\n",
    "r2 = r2_score(y_test, y_pred)\n",
    "print(f\"R-squared: {r2}\")\n",
    "\n",
    "# Mean Absolute Percentage Error (MAPE)\n",
    "def mean_absolute_percentage_error(y_true, y_pred): \n",
    "    # Evitar divisiones por cero\n",
    "    non_zero_indices = y_true != 0\n",
    "    y_true_filtered = y_true[non_zero_indices]\n",
    "    y_pred_filtered = y_pred[non_zero_indices]\n",
    "    \n",
    "    # Calcular el MAPE solo para los valores no cero\n",
    "    return np.mean(np.abs((y_true_filtered - y_pred_filtered) / y_true_filtered)) * 100\n",
    "\n",
    "# Ahora puedes calcular el MAPE sin que dé infinito\n",
    "mape = mean_absolute_percentage_error(y_test, y_pred)\n",
    "print(f\"MAPE: {mape}%\")"
   ]
  },
  {
   "cell_type": "markdown",
   "metadata": {},
   "source": [
    "# Exportar resultados para usar en Power BI"
   ]
  },
  {
   "cell_type": "code",
   "execution_count": 70,
   "metadata": {},
   "outputs": [],
   "source": [
    "# Crear un DataFrame con los resultados\n",
    "results_df = pd.DataFrame({\n",
    "    'user_index': X_test_user,\n",
    "    'book_index': X_test_book,\n",
    "    'true_rating': y_test,\n",
    "    'predicted_rating': y_pred\n",
    "})\n",
    "\n",
    "# Guardar los resultados en un archivo CSV\n",
    "results_df.to_csv('predictions.csv', index=False)"
   ]
  }
 ],
 "metadata": {
  "kernelspec": {
   "display_name": "recommendador",
   "language": "python",
   "name": "python3"
  },
  "language_info": {
   "codemirror_mode": {
    "name": "ipython",
    "version": 3
   },
   "file_extension": ".py",
   "mimetype": "text/x-python",
   "name": "python",
   "nbconvert_exporter": "python",
   "pygments_lexer": "ipython3",
   "version": "3.8.19"
  }
 },
 "nbformat": 4,
 "nbformat_minor": 2
}
