{
 "cells": [
  {
   "cell_type": "markdown",
   "metadata": {},
   "source": [
    "## 1. Importar las librerías necesarias\n",
    "\n",
    "Importamos las librerías principales como *pandas* para el manejo de datos, *matplotlib* y *seaborn* para las visualizaciones."
   ]
  },
  {
   "cell_type": "code",
   "execution_count": 1,
   "metadata": {},
   "outputs": [],
   "source": [
    "import pandas as pd\n",
    "import matplotlib.pyplot as plt\n",
    "import seaborn as sns"
   ]
  },
  {
   "cell_type": "markdown",
   "metadata": {},
   "source": [
    "## 2. Cargar los datasets\n",
    "\n",
    "Se cargan los datasets books.csv (libros), ratings.csv (calificaciones de los usuarios) y to_read.csv (libros que los usuarios marcan para leer)."
   ]
  },
  {
   "cell_type": "code",
   "execution_count": 2,
   "metadata": {},
   "outputs": [],
   "source": [
    "\n",
    "df_books = pd.read_csv(\"dataset/books.csv\")\n",
    "df_ratings = pd.read_csv(\"dataset/ratings.csv\")\n",
    "df_to_read = pd.read_csv(\"dataset/to_read.csv\")\n",
    "tags_df = pd.read_csv(\"dataset//tags.csv\")\n",
    "book_tags_df = pd.read_csv(\"dataset/book_tags.csv\")"
   ]
  },
  {
   "cell_type": "markdown",
   "metadata": {},
   "source": [
    "## 3. Explorar la Información de los Datasets\n",
    "\n",
    "Esta celda muestra la estructura de cada dataset, el número de columnas y si hay valores faltantes o problemas con los tipos de datos."
   ]
  },
  {
   "cell_type": "code",
   "execution_count": 3,
   "metadata": {},
   "outputs": [
    {
     "name": "stdout",
     "output_type": "stream",
     "text": [
      "Información del dataset de libros:\n",
      "<class 'pandas.core.frame.DataFrame'>\n",
      "RangeIndex: 10000 entries, 0 to 9999\n",
      "Data columns (total 23 columns):\n",
      " #   Column                     Non-Null Count  Dtype  \n",
      "---  ------                     --------------  -----  \n",
      " 0   id                         10000 non-null  int64  \n",
      " 1   book_id                    10000 non-null  int64  \n",
      " 2   best_book_id               10000 non-null  int64  \n",
      " 3   work_id                    10000 non-null  int64  \n",
      " 4   books_count                10000 non-null  int64  \n",
      " 5   isbn                       9300 non-null   object \n",
      " 6   isbn13                     9415 non-null   float64\n",
      " 7   authors                    10000 non-null  object \n",
      " 8   original_publication_year  9979 non-null   float64\n",
      " 9   original_title             9415 non-null   object \n",
      " 10  title                      10000 non-null  object \n",
      " 11  language_code              8916 non-null   object \n",
      " 12  average_rating             10000 non-null  float64\n",
      " 13  ratings_count              10000 non-null  int64  \n",
      " 14  work_ratings_count         10000 non-null  int64  \n",
      " 15  work_text_reviews_count    10000 non-null  int64  \n",
      " 16  ratings_1                  10000 non-null  int64  \n",
      " 17  ratings_2                  10000 non-null  int64  \n",
      " 18  ratings_3                  10000 non-null  int64  \n",
      " 19  ratings_4                  10000 non-null  int64  \n",
      " 20  ratings_5                  10000 non-null  int64  \n",
      " 21  image_url                  10000 non-null  object \n",
      " 22  small_image_url            10000 non-null  object \n",
      "dtypes: float64(3), int64(13), object(7)\n",
      "memory usage: 1.8+ MB\n",
      "\n",
      "Información del dataset de ratings:\n",
      "<class 'pandas.core.frame.DataFrame'>\n",
      "RangeIndex: 981756 entries, 0 to 981755\n",
      "Data columns (total 3 columns):\n",
      " #   Column   Non-Null Count   Dtype\n",
      "---  ------   --------------   -----\n",
      " 0   book_id  981756 non-null  int64\n",
      " 1   user_id  981756 non-null  int64\n",
      " 2   rating   981756 non-null  int64\n",
      "dtypes: int64(3)\n",
      "memory usage: 22.5 MB\n",
      "\n",
      "Información del dataset 'to_read':\n",
      "<class 'pandas.core.frame.DataFrame'>\n",
      "RangeIndex: 912705 entries, 0 to 912704\n",
      "Data columns (total 2 columns):\n",
      " #   Column   Non-Null Count   Dtype\n",
      "---  ------   --------------   -----\n",
      " 0   user_id  912705 non-null  int64\n",
      " 1   book_id  912705 non-null  int64\n",
      "dtypes: int64(2)\n",
      "memory usage: 13.9 MB\n",
      "\n",
      "Información del dataset de tags:\n",
      "<class 'pandas.core.frame.DataFrame'>\n",
      "RangeIndex: 34252 entries, 0 to 34251\n",
      "Data columns (total 2 columns):\n",
      " #   Column    Non-Null Count  Dtype \n",
      "---  ------    --------------  ----- \n",
      " 0   tag_id    34252 non-null  int64 \n",
      " 1   tag_name  34252 non-null  object\n",
      "dtypes: int64(1), object(1)\n",
      "memory usage: 535.3+ KB\n",
      "\n",
      "Información del dataset de book_tags:\n",
      "<class 'pandas.core.frame.DataFrame'>\n",
      "RangeIndex: 999912 entries, 0 to 999911\n",
      "Data columns (total 3 columns):\n",
      " #   Column             Non-Null Count   Dtype\n",
      "---  ------             --------------   -----\n",
      " 0   goodreads_book_id  999912 non-null  int64\n",
      " 1   tag_id             999912 non-null  int64\n",
      " 2   count              999912 non-null  int64\n",
      "dtypes: int64(3)\n",
      "memory usage: 22.9 MB\n"
     ]
    }
   ],
   "source": [
    "# Información sobre el dataset de libros\n",
    "print(\"Información del dataset de libros:\")\n",
    "df_books.info()\n",
    "\n",
    "# Información sobre el dataset de ratings\n",
    "print(\"\\nInformación del dataset de ratings:\")\n",
    "df_ratings.info()\n",
    "\n",
    "# Información sobre el dataset 'to_read'\n",
    "print(\"\\nInformación del dataset 'to_read':\")\n",
    "df_to_read.info()\n",
    "\n",
    "# Información sobre el dataset de tags\n",
    "print(\"\\nInformación del dataset de tags:\")\n",
    "tags_df.info()\n",
    "\n",
    "# Información sobre el dataset de book_tags\n",
    "print(\"\\nInformación del dataset de book_tags:\")\n",
    "book_tags_df.info()"
   ]
  },
  {
   "cell_type": "markdown",
   "metadata": {},
   "source": [
    "## 4. Limpieza Inicial de los Datos\n",
    "Se eliminan columnas que no son útiles para el sistema de recomendación. Se eliminan las filas que tienen valores nulos en original_publication_year porque no podemos determinar el año de publicación de esos libros y eso puede afectar a nuestro análisis. Se imputan valores faltantes en la columna language_code con la etiqueta \"unknown\"."
   ]
  },
  {
   "cell_type": "code",
   "execution_count": 4,
   "metadata": {},
   "outputs": [],
   "source": [
    "# 1. Eliminar las columnas que no son relevantes para el modelo de recomendación\n",
    "df_books.drop(columns=['id', 'best_book_id', 'work_id', 'books_count', 'isbn', 'isbn13','original_title','image_url','work_ratings_count','work_text_reviews_count',\n",
    "                       'ratings_1', 'ratings_2', 'ratings_3', 'ratings_4', 'ratings_5', 'small_image_url'], inplace=True)\n",
    "\n",
    "# 2. Eliminar filas con valores nulos en `original_publication_year`\n",
    "df_books = df_books.dropna(subset=['original_publication_year'])\n",
    "\n",
    "# 3. Imputar \"unknown\" en `language_code` para valores nulos\n",
    "df_books.fillna({'language_code':'unknown'}, inplace=True)"
   ]
  },
  {
   "cell_type": "markdown",
   "metadata": {},
   "source": [
    "## 5. Estadísticas Descriptivas de los Datasets\n",
    "Generamos estadísticas descriptivas de los datasets, como media, desviación estándar, mínimos, máximos, etc., para obtener un resumen general de los datos."
   ]
  },
  {
   "cell_type": "code",
   "execution_count": 5,
   "metadata": {},
   "outputs": [
    {
     "name": "stdout",
     "output_type": "stream",
     "text": [
      "\n",
      "Estadísticas descriptivas del dataset de libros:\n",
      "           book_id  original_publication_year  average_rating  ratings_count\n",
      "count      9979.00                    9979.00         9979.00        9979.00\n",
      "mean    5267498.38                    1981.99            4.00       54046.36\n",
      "std     7580057.44                     152.58            0.25      157508.16\n",
      "min           1.00                   -1750.00            2.47        2716.00\n",
      "25%       46200.00                    1990.00            3.85       13569.50\n",
      "50%      394535.00                    2004.00            4.02       21200.00\n",
      "75%     9394612.50                    2011.00            4.18       41084.00\n",
      "max    33288638.00                    2017.00            4.82     4780653.00\n",
      "\n",
      "Estadísticas descriptivas del dataset de ratings:\n",
      "         book_id    user_id     rating\n",
      "count  981756.00  981756.00  981756.00\n",
      "mean     4943.28   25616.76       3.86\n",
      "std      2873.21   15228.34       0.98\n",
      "min         1.00       1.00       1.00\n",
      "25%      2457.00   12372.00       3.00\n",
      "50%      4921.00   25077.00       4.00\n",
      "75%      7414.00   38572.00       5.00\n",
      "max     10000.00   53424.00       5.00\n",
      "\n",
      "Estadísticas descriptivas del dataset 'to_read':\n",
      "         user_id    book_id\n",
      "count  912705.00  912705.00\n",
      "mean    27668.98    2454.74\n",
      "std     14775.10    2626.36\n",
      "min         1.00       1.00\n",
      "25%     15507.00     360.00\n",
      "50%     27799.00    1381.00\n",
      "75%     40220.00    3843.00\n",
      "max     53424.00   10000.00\n",
      "\n",
      "Estadísticas descriptivas del dataset de tags:\n",
      "         tag_id\n",
      "count  34252.00\n",
      "mean   17125.50\n",
      "std     9887.85\n",
      "min        0.00\n",
      "25%     8562.75\n",
      "50%    17125.50\n",
      "75%    25688.25\n",
      "max    34251.00\n",
      "\n",
      "Estadísticas descriptivas del dataset de book_tags:\n",
      "       goodreads_book_id     tag_id      count\n",
      "count          999912.00  999912.00  999912.00\n",
      "mean          5263441.95   16324.53     208.87\n",
      "std           7574057.10    9647.85    3501.27\n",
      "min                 1.00       0.00      -1.00\n",
      "25%             46227.00    8067.00       7.00\n",
      "50%            394841.00   15808.00      15.00\n",
      "75%           9378297.00   24997.00      40.00\n",
      "max          33288638.00   34251.00  596234.00\n"
     ]
    }
   ],
   "source": [
    "print(\"\\nEstadísticas descriptivas del dataset de libros:\")\n",
    "print(df_books.describe().round(2))\n",
    "\n",
    "print(\"\\nEstadísticas descriptivas del dataset de ratings:\")\n",
    "print(df_ratings.describe().round(2))\n",
    "\n",
    "print(\"\\nEstadísticas descriptivas del dataset 'to_read':\")\n",
    "print(df_to_read.describe().round(2))\n",
    "\n",
    "print(\"\\nEstadísticas descriptivas del dataset de tags:\")\n",
    "print(tags_df.describe().round(2))\n",
    "\n",
    "print(\"\\nEstadísticas descriptivas del dataset de book_tags:\")\n",
    "print(book_tags_df.describe().round(2))\n"
   ]
  },
  {
   "cell_type": "markdown",
   "metadata": {},
   "source": [
    "## 6. Detectar y Eliminar Duplicados\n",
    "Verificamos si hay filas duplicadas en los datasets y las eliminamos para evitar redundancias en los datos."
   ]
  },
  {
   "cell_type": "code",
   "execution_count": 6,
   "metadata": {},
   "outputs": [
    {
     "name": "stdout",
     "output_type": "stream",
     "text": [
      "\n",
      "Valores duplicados en el dataset de libros: 0\n",
      "Valores duplicados en el dataset de ratings: 1644\n",
      "Valores duplicados en el dataset 'to_read': 0\n",
      "Valores duplicados en el dataset de tags: 0\n",
      "Valores duplicados en el dataset de book_tags: 6\n"
     ]
    }
   ],
   "source": [
    "# Verificar si hay duplicados en los datasets\n",
    "print(\"\\nValores duplicados en el dataset de libros:\", df_books.duplicated().sum())\n",
    "print(\"Valores duplicados en el dataset de ratings:\", df_ratings.duplicated().sum())\n",
    "print(\"Valores duplicados en el dataset 'to_read':\", df_to_read.duplicated().sum())\n",
    "print(\"Valores duplicados en el dataset de tags:\", tags_df.duplicated().sum())\n",
    "print(\"Valores duplicados en el dataset de book_tags:\", book_tags_df.duplicated().sum())"
   ]
  },
  {
   "cell_type": "code",
   "execution_count": 7,
   "metadata": {},
   "outputs": [],
   "source": [
    "# Eliminar duplicados si los hay\n",
    "df_books.drop_duplicates(inplace=True)\n",
    "df_ratings.drop_duplicates(inplace=True)\n",
    "df_to_read.drop_duplicates(inplace=True)\n",
    "tags_df.drop_duplicates(inplace=True)\n",
    "book_tags_df.drop_duplicates(inplace=True)"
   ]
  },
  {
   "cell_type": "markdown",
   "metadata": {},
   "source": [
    "## 7. Distribución de Ratings\n",
    "Se visualiza la distribución de las calificaciones de los usuarios, lo que nos permite observar la tendencia general de las valoraciones."
   ]
  },
  {
   "cell_type": "code",
   "execution_count": 8,
   "metadata": {},
   "outputs": [
    {
     "data": {
      "image/png": "[encoded data removed]",
      "text/plain": [
       "<Figure size 640x480 with 1 Axes>"
      ]
     },
     "metadata": {},
     "output_type": "display_data"
    }
   ],
   "source": [
    "sns.histplot(df_ratings['rating'], kde=False, bins=10)\n",
    "plt.title('Distribución de Ratings')\n",
    "plt.xlabel('Rating')\n",
    "plt.ylabel('Frecuencia')\n",
    "plt.show()"
   ]
  },
  {
   "cell_type": "markdown",
   "metadata": {},
   "source": [
    "## 8. Análisis de Outliers en Ratings\n",
    "Se utiliza un boxplot para detectar posibles outliers en los ratings. Los outliers pueden distorsionar el modelo de recomendación, por lo que es importante identificarlos."
   ]
  },
  {
   "cell_type": "code",
   "execution_count": 9,
   "metadata": {},
   "outputs": [
    {
     "data": {
      "image/png": "[encoded data removed]",
      "text/plain": [
       "<Figure size 640x480 with 1 Axes>"
      ]
     },
     "metadata": {},
     "output_type": "display_data"
    }
   ],
   "source": [
    "sns.boxplot(df_ratings['rating'])\n",
    "plt.title('Análisis de Outliers en Ratings')\n",
    "plt.show()"
   ]
  },
  {
   "cell_type": "markdown",
   "metadata": {},
   "source": [
    "\n",
    "## 9. Distribución de Ratings por Libro\n",
    "Visualizamos la cantidad de ratings por libro para ver si hay libros que tienen muy pocos ratings, lo que puede afectar la calidad de las recomendaciones."
   ]
  },
  {
   "cell_type": "code",
   "execution_count": 10,
   "metadata": {},
   "outputs": [
    {
     "data": {
      "image/png": "[encoded data removed]",
      "text/plain": [
       "<Figure size 1000x600 with 1 Axes>"
      ]
     },
     "metadata": {},
     "output_type": "display_data"
    }
   ],
   "source": [
    "ratings_per_book = df_ratings['book_id'].value_counts()\n",
    "plt.figure(figsize=(10,6))\n",
    "sns.histplot(ratings_per_book, kde=False, bins=50)\n",
    "plt.title('Distribución del Número de Ratings por Libro')\n",
    "plt.xlabel('Número de Ratings')\n",
    "plt.ylabel('Cantidad de Libros')\n",
    "plt.show()"
   ]
  },
  {
   "cell_type": "markdown",
   "metadata": {},
   "source": [
    "## 10. Filtrar Libros con Suficientes Ratings\n",
    "Se establece un umbral de 50 ratings por libro, lo que asegura que sólo trabajemos con libros que tienen suficientes datos para generar recomendaciones fiables."
   ]
  },
  {
   "cell_type": "code",
   "execution_count": 11,
   "metadata": {},
   "outputs": [],
   "source": [
    "# Establecer un umbral para la cantidad mínima de ratings por libro\n",
    "min_ratings_per_book = 50\n",
    "popular_books = ratings_per_book[ratings_per_book >= min_ratings_per_book].index\n",
    "\n",
    "# Filtrar los ratings solo para libros con suficientes ratings\n",
    "df_ratings = df_ratings[df_ratings['book_id'].isin(popular_books)]"
   ]
  },
  {
   "cell_type": "markdown",
   "metadata": {},
   "source": [
    "## 11. Mapeo de Etiquetas a Libros"
   ]
  },
  {
   "cell_type": "code",
   "execution_count": 12,
   "metadata": {},
   "outputs": [
    {
     "name": "stdout",
     "output_type": "stream",
     "text": [
      "   book_id                                              title  \\\n",
      "0  2767052            The Hunger Games (The Hunger Games, #1)   \n",
      "1        3  Harry Potter and the Sorcerer's Stone (Harry P...   \n",
      "2    41865                            Twilight (Twilight, #1)   \n",
      "3     2657                              To Kill a Mockingbird   \n",
      "4     4671                                   The Great Gatsby   \n",
      "\n",
      "                                            tag_name  \n",
      "0  to-read fantasy favorites currently-reading yo...  \n",
      "1  to-read fantasy favorites currently-reading yo...  \n",
      "2  to-read fantasy favorites currently-reading yo...  \n",
      "3  to-read favorites currently-reading young-adul...  \n",
      "4  to-read favorites currently-reading young-adul...  \n"
     ]
    }
   ],
   "source": [
    "# Mapear las etiquetas con los libros\n",
    "book_tags_combined = pd.merge(book_tags_df, tags_df, on='tag_id', how='inner')\n",
    "\n",
    "# Agrupar por libro y concatenar las etiquetas\n",
    "book_tags_combined = book_tags_combined.groupby('goodreads_book_id')['tag_name'].apply(lambda x: ' '.join(x)).reset_index()\n",
    "\n",
    "# Unir las etiquetas al dataset de libros\n",
    "books_with_tags = pd.merge(df_books, book_tags_combined, left_on='book_id', right_on='goodreads_book_id', how='left')\n",
    "\n",
    "# Verificar la nueva columna de etiquetas\n",
    "print(books_with_tags[['book_id', 'title', 'tag_name']].head())"
   ]
  },
  {
   "cell_type": "markdown",
   "metadata": {},
   "source": [
    "## 12. Vectorizar las etiquetas"
   ]
  },
  {
   "cell_type": "code",
   "execution_count": 13,
   "metadata": {},
   "outputs": [
    {
     "name": "stdout",
     "output_type": "stream",
     "text": [
      "   book_id                      authors  original_publication_year  \\\n",
      "0  2767052              Suzanne Collins                     2008.0   \n",
      "1        3  J.K. Rowling, Mary GrandPré                     1997.0   \n",
      "2    41865              Stephenie Meyer                     2005.0   \n",
      "3     2657                   Harper Lee                     1960.0   \n",
      "4     4671          F. Scott Fitzgerald                     1925.0   \n",
      "\n",
      "                                               title language_code  \\\n",
      "0            The Hunger Games (The Hunger Games, #1)           eng   \n",
      "1  Harry Potter and the Sorcerer's Stone (Harry P...           eng   \n",
      "2                            Twilight (Twilight, #1)         en-US   \n",
      "3                              To Kill a Mockingbird           eng   \n",
      "4                                   The Great Gatsby           eng   \n",
      "\n",
      "   average_rating  ratings_count         0         1         2  ...        90  \\\n",
      "0            4.34        4780653  0.000000  0.148113  0.189252  ...  0.064469   \n",
      "1            4.44        4602479  0.000000  0.000000  0.000000  ...  0.054824   \n",
      "2            3.57        3866839  0.000000  0.000000  0.000000  ...  0.057112   \n",
      "3            4.25        3198671  0.298394  0.000000  0.000000  ...  0.051727   \n",
      "4            3.89        2683664  0.270923  0.000000  0.045956  ...  0.046965   \n",
      "\n",
      "         91        92        93        94        95   96        97        98  \\\n",
      "0  0.077557  0.071129  0.075643  0.069046  0.065227  0.0  0.000000  0.433136   \n",
      "1  0.000000  0.000000  0.000000  0.117433  0.083203  0.0  0.000000  0.184169   \n",
      "2  0.000000  0.000000  0.000000  0.061166  0.057783  0.0  0.000000  0.447655   \n",
      "3  0.000000  0.057071  0.000000  0.110799  0.183173  0.0  0.034737  0.057921   \n",
      "4  0.000000  0.051817  0.000000  0.050299  0.190068  0.0  0.031539  0.000000   \n",
      "\n",
      "         99  \n",
      "0  0.128592  \n",
      "1  0.109354  \n",
      "2  0.170875  \n",
      "3  0.051588  \n",
      "4  0.046839  \n",
      "\n",
      "[5 rows x 107 columns]\n"
     ]
    }
   ],
   "source": [
    "\n",
    "from sklearn.feature_extraction.text import TfidfVectorizer\n",
    "\n",
    "# Vectorizar las etiquetas usando TF-IDF\n",
    "tfidf = TfidfVectorizer(max_features=100)  # Puedes ajustar el número de features\n",
    "tag_vectors = tfidf.fit_transform(books_with_tags['tag_name'].fillna(''))\n",
    "\n",
    "# Convertir los vectores en un DataFrame y agregar al dataset de libros\n",
    "tag_vectors_df = pd.DataFrame(tag_vectors.toarray(), index=books_with_tags.index)\n",
    "books_with_tags = pd.concat([books_with_tags, tag_vectors_df], axis=1)\n",
    "\n",
    "# Eliminar la columna de etiquetas\n",
    "books_with_tags.drop(columns=['tag_name', 'goodreads_book_id'], inplace=True)\n",
    "\n",
    "# Verificar las nuevas columnas de características\n",
    "print(books_with_tags.head())\n"
   ]
  },
  {
   "cell_type": "markdown",
   "metadata": {},
   "source": [
    "## 13. Modificación del Dataset Combinado con las Etiquetas"
   ]
  },
  {
   "cell_type": "code",
   "execution_count": 14,
   "metadata": {},
   "outputs": [
    {
     "name": "stdout",
     "output_type": "stream",
     "text": [
      "   book_id  user_id  rating                      authors  \\\n",
      "0        1      314       5  J.K. Rowling, Mary GrandPré   \n",
      "1        1      439       3  J.K. Rowling, Mary GrandPré   \n",
      "2        1      588       5  J.K. Rowling, Mary GrandPré   \n",
      "3        1     1169       4  J.K. Rowling, Mary GrandPré   \n",
      "4        1     1185       4  J.K. Rowling, Mary GrandPré   \n",
      "\n",
      "   original_publication_year  \\\n",
      "0                     2005.0   \n",
      "1                     2005.0   \n",
      "2                     2005.0   \n",
      "3                     2005.0   \n",
      "4                     2005.0   \n",
      "\n",
      "                                               title language_code  \\\n",
      "0  Harry Potter and the Half-Blood Prince (Harry ...           eng   \n",
      "1  Harry Potter and the Half-Blood Prince (Harry ...           eng   \n",
      "2  Harry Potter and the Half-Blood Prince (Harry ...           eng   \n",
      "3  Harry Potter and the Half-Blood Prince (Harry ...           eng   \n",
      "4  Harry Potter and the Half-Blood Prince (Harry ...           eng   \n",
      "\n",
      "   average_rating  ratings_count    0  ...        90   91   92   93        94  \\\n",
      "0            4.54        1678823  0.0  ...  0.057701  0.0  0.0  0.0  0.123596   \n",
      "1            4.54        1678823  0.0  ...  0.057701  0.0  0.0  0.0  0.123596   \n",
      "2            4.54        1678823  0.0  ...  0.057701  0.0  0.0  0.0  0.123596   \n",
      "3            4.54        1678823  0.0  ...  0.057701  0.0  0.0  0.0  0.123596   \n",
      "4            4.54        1678823  0.0  ...  0.057701  0.0  0.0  0.0  0.123596   \n",
      "\n",
      "         95   96   97        98        99  \n",
      "0  0.087569  0.0  0.0  0.193834  0.115093  \n",
      "1  0.087569  0.0  0.0  0.193834  0.115093  \n",
      "2  0.087569  0.0  0.0  0.193834  0.115093  \n",
      "3  0.087569  0.0  0.0  0.193834  0.115093  \n",
      "4  0.087569  0.0  0.0  0.193834  0.115093  \n",
      "\n",
      "[5 rows x 109 columns]\n"
     ]
    }
   ],
   "source": [
    "# Combinar los ratings con los libros y sus etiquetas vectorizadas\n",
    "df_combined = pd.merge(df_ratings, books_with_tags, on='book_id', how='inner')\n",
    "\n",
    "# Verificar el dataframe combinado con etiquetas\n",
    "print(df_combined.head())"
   ]
  },
  {
   "cell_type": "markdown",
   "metadata": {},
   "source": [
    "## 14. Codificación de Usuarios y Libros para Embeddings\n",
    "Creamos un mapeo de user_id y book_id a índices numéricos, que serán necesarios para la capa de embeddings en el modelo. Esto convierte los identificadores de usuarios y libros a valores que el modelo de aprendizaje automático pueda interpretar."
   ]
  },
  {
   "cell_type": "code",
   "execution_count": 15,
   "metadata": {},
   "outputs": [
    {
     "name": "stdout",
     "output_type": "stream",
     "text": [
      "   user_id  book_id  user_index  book_index\n",
      "0      314        1           0           0\n",
      "1      439        1           1           0\n",
      "2      588        1           2           0\n",
      "3     1169        1           3           0\n",
      "4     1185        1           4           0\n"
     ]
    }
   ],
   "source": [
    "# Crear mapeos para usuarios y libros\n",
    "user_ids = df_combined['user_id'].unique()\n",
    "book_ids = df_combined['book_id'].unique()\n",
    "\n",
    "# Mapeo de user_id y book_id a índices numéricos\n",
    "user_to_index = {user_id: index for index, user_id in enumerate(user_ids)}\n",
    "book_to_index = {book_id: index for index, book_id in enumerate(book_ids)}\n",
    "\n",
    "# Aplicar los mapeos en el dataset de ratings\n",
    "df_combined['user_index'] = df_combined['user_id'].map(user_to_index)\n",
    "df_combined['book_index'] = df_combined['book_id'].map(book_to_index)\n",
    "\n",
    "# Verificar los mapeos\n",
    "print(df_combined[['user_id', 'book_id', 'user_index', 'book_index']].head())"
   ]
  },
  {
   "cell_type": "markdown",
   "metadata": {},
   "source": [
    "## 15. Codificación de Language_code y limpieza final"
   ]
  },
  {
   "cell_type": "code",
   "execution_count": 16,
   "metadata": {},
   "outputs": [
    {
     "name": "stdout",
     "output_type": "stream",
     "text": [
      "  language_code  language_code_encoded\n",
      "0           eng                      3\n",
      "1           eng                      3\n",
      "2           eng                      3\n",
      "3           eng                      3\n",
      "4           eng                      3\n"
     ]
    }
   ],
   "source": [
    "from sklearn.preprocessing import LabelEncoder\n",
    "\n",
    "# Crear un codificador\n",
    "label_encoder = LabelEncoder()\n",
    "\n",
    "# Codificar la columna 'language_code'\n",
    "df_combined['language_code_encoded'] = label_encoder.fit_transform(df_combined['language_code'])\n",
    "\n",
    "# Verificar las primeras filas para confirmar\n",
    "print(df_combined[['language_code', 'language_code_encoded']].head())\n",
    "\n",
    "# Eliminar columnas no necesarias\n",
    "df_combined.drop(columns=['language_code'], inplace=True)"
   ]
  },
  {
   "cell_type": "markdown",
   "metadata": {},
   "source": [
    "## 16. Normalización de Características"
   ]
  },
  {
   "cell_type": "code",
   "execution_count": 17,
   "metadata": {},
   "outputs": [
    {
     "name": "stdout",
     "output_type": "stream",
     "text": [
      "       original_publication_year  average_rating  ratings_count\n",
      "count               79483.000000    79483.000000   79483.000000\n",
      "mean                    0.974759        0.578749       0.030116\n",
      "std                     0.106041        0.127499       0.076638\n",
      "min                     0.000000        0.000000       0.000000\n",
      "25%                     0.983760        0.497462       0.002698\n",
      "50%                     0.994587        0.583756       0.007111\n",
      "75%                     0.997113        0.670051       0.023622\n",
      "max                     1.000000        1.000000       1.000000\n"
     ]
    }
   ],
   "source": [
    "from sklearn.preprocessing import MinMaxScaler\n",
    "\n",
    "# Definir las columnas que vamos a normalizar\n",
    "columns_to_normalize = ['original_publication_year', 'average_rating', 'ratings_count']\n",
    "\n",
    "# Inicializar el scaler\n",
    "scaler = MinMaxScaler()\n",
    "\n",
    "# Aplicar el ajuste y la transformación sobre las columnas seleccionadas\n",
    "df_combined[columns_to_normalize] = scaler.fit_transform(df_combined[columns_to_normalize])\n",
    "\n",
    "# Verificar los resultados\n",
    "print(df_combined[columns_to_normalize].describe())"
   ]
  },
  {
   "cell_type": "markdown",
   "metadata": {},
   "source": [
    "## 17. Normalización de los Ratings\n",
    "Se utiliza MinMaxScaler para escalar los valores de los ratings entre 0 y 1. Esto permitirá que el modelo sea menos sensible al sesgo hacia las calificaciones más altas, proporcionando una mejor distribución de las preferencias de los usuarios."
   ]
  },
  {
   "cell_type": "code",
   "execution_count": 18,
   "metadata": {},
   "outputs": [
    {
     "name": "stdout",
     "output_type": "stream",
     "text": [
      "   user_id  book_id  rating  normalized_rating\n",
      "0      314        1       5               1.00\n",
      "1      439        1       3               0.50\n",
      "2      588        1       5               1.00\n",
      "3     1169        1       4               0.75\n",
      "4     1185        1       4               0.75\n"
     ]
    }
   ],
   "source": [
    "# Normalización de los ratings\n",
    "from sklearn.preprocessing import MinMaxScaler\n",
    "\n",
    "# Normalizar los ratings a un rango de [0, 1]\n",
    "scaler = MinMaxScaler(feature_range=(0, 1))\n",
    "df_combined['normalized_rating'] = scaler.fit_transform(df_combined[['rating']])\n",
    "\n",
    "# Mostrar una muestra de los datos normalizados\n",
    "print(df_combined[['user_id', 'book_id', 'rating', 'normalized_rating']].head())\n",
    "\n",
    "# Eliminar columnas no necesarias\n",
    "df_combined = df_combined.drop(columns=['rating'])"
   ]
  },
  {
   "cell_type": "markdown",
   "metadata": {},
   "source": [
    "## 18. División de Conjuntos de Entrenamiento y Prueba\n",
    "Dividimos los datos en dos conjuntos: 80% para el entrenamiento y 20% para la prueba. Esto nos permitirá entrenar el modelo en un conjunto y evaluarlo en el otro, asegurando que podamos medir su rendimiento con precisión."
   ]
  },
  {
   "cell_type": "code",
   "execution_count": 19,
   "metadata": {},
   "outputs": [
    {
     "name": "stdout",
     "output_type": "stream",
     "text": [
      "Conjunto de entrenamiento: (63586, 109)\n",
      "Conjunto de prueba: (15897, 109)\n"
     ]
    }
   ],
   "source": [
    "from sklearn.model_selection import train_test_split\n",
    "\n",
    "# Dividir los datos en conjuntos de entrenamiento y prueba (80% - 20%)\n",
    "df_combined = df_combined.drop(columns=['authors', 'title'])\n",
    "train_combined, test_combined = train_test_split(df_combined, test_size=0.2, random_state=42)\n",
    "\n",
    "# Mostrar la cantidad de datos en cada conjunto\n",
    "print(f\"Conjunto de entrenamiento: {train_combined.shape}\")\n",
    "print(f\"Conjunto de prueba: {test_combined.shape}\")"
   ]
  },
  {
   "cell_type": "markdown",
   "metadata": {},
   "source": [
    "## 19. Guardar los Datos Preprocesados\n",
    "Guardamos los conjuntos de datos preprocesados como archivos CSV para que puedan ser utilizados en la próxima fase del proyecto, donde entrenaremos el modelo NCF."
   ]
  },
  {
   "cell_type": "code",
   "execution_count": 20,
   "metadata": {},
   "outputs": [
    {
     "name": "stdout",
     "output_type": "stream",
     "text": [
      "Conjuntos de entrenamiento y prueba combinados guardados.\n"
     ]
    }
   ],
   "source": [
    "# Guardar los datasets combinados preprocesados\n",
    "train_combined.to_csv(\"train_dataset.csv\", index=False)\n",
    "test_combined.to_csv(\"test_dataset.csv\", index=False)\n",
    "\n",
    "print(\"Conjuntos de entrenamiento y prueba combinados guardados.\")"
   ]
  }
 ],
 "metadata": {
  "kernelspec": {
   "display_name": "Python 3",
   "language": "python",
   "name": "python3"
  },
  "language_info": {
   "codemirror_mode": {
    "name": "ipython",
    "version": 3
   },
   "file_extension": ".py",
   "mimetype": "text/x-python",
   "name": "python",
   "nbconvert_exporter": "python",
   "pygments_lexer": "ipython3",
   "version": "3.8.19"
  }
 },
 "nbformat": 4,
 "nbformat_minor": 2
}
