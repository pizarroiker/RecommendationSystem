{
 "cells": [
  {
   "cell_type": "markdown",
   "metadata": {},
   "source": [
    "## 1. Importar las librerías necesarias\n",
    "\n",
    "Importamos las librerías principales como *pandas* para el manejo de datos, *matplotlib* y *seaborn* para las visualizaciones."
   ]
  },
  {
   "cell_type": "code",
   "execution_count": 1,
   "metadata": {},
   "outputs": [],
   "source": [
    "import pandas as pd\n",
    "import matplotlib.pyplot as plt\n",
    "import seaborn as sns\n",
    "from IPython.display import HTML"
   ]
  },
  {
   "cell_type": "markdown",
   "metadata": {},
   "source": [
    "## 2. Cargar los datasets\n",
    "\n",
    "Se cargan los datasets books.csv (libros), ratings.csv (calificaciones de los usuarios) y to_read.csv (libros que los usuarios marcan para leer)."
   ]
  },
  {
   "cell_type": "code",
   "execution_count": 2,
   "metadata": {},
   "outputs": [],
   "source": [
    "df_books = pd.read_csv(\"dataset/books.csv\")\n",
    "df_ratings = pd.read_csv(\"dataset/ratings.csv\")\n",
    "df_to_read = pd.read_csv(\"dataset/to_read.csv\")\n",
    "tags_df = pd.read_csv(\"dataset/tags.csv\")\n",
    "book_tags_df = pd.read_csv(\"dataset/book_tags.csv\")"
   ]
  },
  {
   "cell_type": "markdown",
   "metadata": {},
   "source": [
    "## 3. Explorar la Información de los Datasets\n",
    "\n",
    "Esta celda muestra la estructura de cada dataset, el número de columnas y si hay valores faltantes o problemas con los tipos de datos."
   ]
  },
  {
   "cell_type": "markdown",
   "metadata": {},
   "source": [
    "### Información del dataset de libros:"
   ]
  },
  {
   "cell_type": "code",
   "execution_count": null,
   "metadata": {},
   "outputs": [],
   "source": [
    "df_books.info()"
   ]
  },
  {
   "cell_type": "markdown",
   "metadata": {},
   "source": [
    "### Información sobre el dataset de ratings:"
   ]
  },
  {
   "cell_type": "code",
   "execution_count": null,
   "metadata": {},
   "outputs": [],
   "source": [
    "df_ratings.info()"
   ]
  },
  {
   "cell_type": "markdown",
   "metadata": {},
   "source": [
    "### Información sobre el dataset 'to_read':"
   ]
  },
  {
   "cell_type": "code",
   "execution_count": null,
   "metadata": {},
   "outputs": [],
   "source": [
    "df_to_read.info()"
   ]
  },
  {
   "cell_type": "markdown",
   "metadata": {},
   "source": [
    "### Información sobre el dataset de tags"
   ]
  },
  {
   "cell_type": "code",
   "execution_count": null,
   "metadata": {},
   "outputs": [],
   "source": [
    "tags_df.info()"
   ]
  },
  {
   "cell_type": "markdown",
   "metadata": {},
   "source": [
    "### Información sobre el dataset de book_tags"
   ]
  },
  {
   "cell_type": "code",
   "execution_count": null,
   "metadata": {},
   "outputs": [],
   "source": [
    "book_tags_df.info()"
   ]
  },
  {
   "cell_type": "markdown",
   "metadata": {},
   "source": [
    "## 4. Limpieza de los Datos"
   ]
  },
  {
   "cell_type": "markdown",
   "metadata": {},
   "source": [
    "### Book Dataset\n",
    "Se eliminan columnas que no son útiles para el sistema de recomendación y nuestra página. Se eliminan las filas que tienen valores nulos en original_publication_year porque no podemos determinar el año de publicación de esos libros y eso puede afectar a nuestro análisis. Se imputan valores faltantes en la columna language_code con la etiqueta \"Other\"."
   ]
  },
  {
   "cell_type": "code",
   "execution_count": null,
   "metadata": {},
   "outputs": [],
   "source": [
    "# Nos quedamos con las columnas que nos interesan\n",
    "df_books = df_books.drop(['id','best_book_id', 'work_id', 'books_count', 'isbn', 'isbn13', 'original_title', 'work_ratings_count', 'work_text_reviews_count', 'ratings_1', 'ratings_2', 'ratings_3', 'ratings_4', 'ratings_5'], axis=1)\n",
    "\n",
    "# Eliminamos los libros duplicados y cuyos valores de 'original_publication_year' sean nulos\n",
    "df_books.drop_duplicates(subset='title', keep='first', inplace=True)\n",
    "df_books.dropna(subset='original_publication_year',inplace=True)\n",
    "\n",
    "# Rellenamos los valores nulos de 'language_code' con 'Other'\n",
    "df_books.fillna({'language_code':'Other'}, inplace=True)\n",
    "\n",
    "# Visualizamos los primeros libros\n",
    "df_books.sort_values('book_id', ascending=True).head(10)\n"
   ]
  },
  {
   "cell_type": "markdown",
   "metadata": {},
   "source": [
    "### Rating Dataset\n",
    "Se eliminan las valoraciones de usuarios a libros duplicadas. Se eliminan las valoraciones de los libros que tras la limpieza de df_books no se encuentran en este."
   ]
  },
  {
   "cell_type": "code",
   "execution_count": null,
   "metadata": {},
   "outputs": [],
   "source": [
    "# Eliminamos los ratings duplicados\n",
    "df_ratings.drop_duplicates(subset = ['user_id','book_id'], keep = False, inplace= True)\n",
    "print(df_ratings.shape)\n",
    "\n",
    "# Eliminamos los ratings cuyos libros no estén en el dataset de libros\n",
    "df_ratings = df_ratings[df_ratings['book_id'].isin(df_books['book_id'])]\n",
    "print(df_ratings.shape)\n",
    "\n",
    "# Visualizamos los primeros ratings\n",
    "df_ratings.head()"
   ]
  },
  {
   "cell_type": "markdown",
   "metadata": {},
   "source": [
    "### To Read Dataset\n",
    "Se eliminan los duplicados entre los pares user_id y book_id. Se eliminan los libros en to_read que tras la limpieza de df_books no están disponibles"
   ]
  },
  {
   "cell_type": "code",
   "execution_count": null,
   "metadata": {},
   "outputs": [],
   "source": [
    "# Eliminamos los to read duplicados\n",
    "df_to_read.drop_duplicates(subset = ['user_id','book_id'], keep = False, inplace= True)\n",
    "\n",
    "# Eliminamos los libros en to read cuyos libros no estén en el dataset de libros\n",
    "df_to_read = df_to_read[df_to_read['book_id'].isin(df_books['book_id'])]\n",
    "\n",
    "# Visualizamos los primeros libros en to read\n",
    "df_to_read.head()\n"
   ]
  },
  {
   "cell_type": "markdown",
   "metadata": {},
   "source": [
    "### Tags Dataset\n",
    "Eliminamos los tags duplicados del dataset de tags para su posterior unión con el DataFrame que asocia books con tags."
   ]
  },
  {
   "cell_type": "code",
   "execution_count": null,
   "metadata": {},
   "outputs": [],
   "source": [
    "# Eliminamos los tags duplicados\n",
    "tags_df = tags_df.drop_duplicates(subset='tag_id', keep='first')\n",
    "\n",
    "# Visualizamos los primeros tags\n",
    "tags_df.head()\n"
   ]
  },
  {
   "cell_type": "markdown",
   "metadata": {},
   "source": [
    "### Book-Tags Dataset\n",
    "Realizamos ciertas transformaciones (Renombrar columnas, eliminar libros no usados, tags no identificados...) del DataFrame para poder unirlo sin problema al otro DataFrame de tags y así relacionar el nombre de las etiquetas con los libros. "
   ]
  },
  {
   "cell_type": "code",
   "execution_count": null,
   "metadata": {},
   "outputs": [],
   "source": [
    "# Renombramos la columna goodreads_book_id a book_id para mayor claridad\n",
    "book_tags_df = book_tags_df.rename(columns={'goodreads_book_id': 'book_id'})\n",
    "\n",
    "# Eliminamos la columna count\n",
    "book_tags_df = book_tags_df.drop(['count'], axis=1)\n",
    "\n",
    "# Eliminamos aquellos tags asociados a libros que no estén en el dataset de libros\n",
    "book_tags_df = book_tags_df[book_tags_df['book_id'].isin(df_books['book_id'])]\n",
    "\n",
    "# Eliminamos aquellos tags que no estén en el dataset de tags\n",
    "book_tags_df = book_tags_df[book_tags_df['tag_id'].isin(tags_df['tag_id'])]\n",
    "\n",
    "# Eliminamos los tags duplicados\n",
    "book_tags_df = book_tags_df.drop_duplicates(subset=['book_id', 'tag_id'], keep='first')\n",
    "print(book_tags_df.head())\n",
    "# Unimos los libros con tags con los nombres de los tags\n",
    "join_tags = pd.merge(tags_df ,book_tags_df, left_on='tag_id', right_on='tag_id', how='left').drop(['tag_id'], axis=1)\n",
    "\n",
    "# Visualizamos los primeros tags con sus nombres y sus asociaciones\n",
    "join_tags.head()"
   ]
  },
  {
   "cell_type": "markdown",
   "metadata": {},
   "source": [
    "Buscamos y reunimos los géneros de libros en una lista. Filtramos todo nuestro DataFrame con tags y libros para quedarnos solo con aquellas etiquetas que hagan referencia a uno de esots géneros, para poder asociar a cualquier libro uno de estos."
   ]
  },
  {
   "cell_type": "code",
   "execution_count": null,
   "metadata": {},
   "outputs": [],
   "source": [
    "# Lista de géneros\n",
    "genres=[\"art\", \"biography\", \"business\", \"chick lit\", \"childrens\", \"christian\", \"classics\",\n",
    "        \"comics\", \"contemporary\", \"cookbooks\", \"crime\", \"fantasy\", \"fiction\", \n",
    "        \"graphic novels\", \"historical fiction\", \"history\", \"horror\", \"humor and comedy\",\n",
    "        \"manga\", \"memoir\", \"music\", \"mystery\", \"nonfiction\", \"paranormal\", \"philosophy\",\n",
    "        \"poetry\", \"psychology\", \"religion\", \"romance\", \"science\", \"science fiction\",\n",
    "        \"self help\", \"suspense\", \"spirituality\", \"sports\", \"thriller\", \"travel\", \"young adult\"]\n",
    "\n",
    "# Filtramos para quedarnos con los tags que sean géneros\n",
    "tag_genres = join_tags[join_tags['tag_name'].isin(genres)].reset_index(drop=True)\n",
    "\n",
    "\n",
    "# Visualizamos el DataFrame anterior pero solo con los géneros\n",
    "tag_genres.head()\n"
   ]
  },
  {
   "cell_type": "markdown",
   "metadata": {},
   "source": [
    "## 5. Análisis Exploratorio de Datos (EDA)"
   ]
  },
  {
   "cell_type": "code",
   "execution_count": 14,
   "metadata": {},
   "outputs": [],
   "source": [
    "# Función para obtener los géneros de un libro\n",
    "def create_html(top_books):\n",
    "  \n",
    "  # Crear el HTML para visualizar los libros con imágenes y estilo\n",
    "  html_content = '''\n",
    "  <table style=\"border-collapse: collapse; width: 100%;\">\n",
    "    <thead>\n",
    "      <tr>\n",
    "        <th style=\"border: 1px solid #dddddd; padding: 8px;\">Título</th>\n",
    "        <th style=\"border: 1px solid #dddddd; padding: 8px;\">Autor</th>\n",
    "        <th style=\"border: 1px solid #dddddd; padding: 8px;\">Valoración</th>\n",
    "        <th style=\"border: 1px solid #dddddd; padding: 8px;\">Imagen</th>\n",
    "      </tr>\n",
    "    </thead>\n",
    "    <tbody>\n",
    "  '''\n",
    "\n",
    "  # Crear las filas con los datos del DataFrame\n",
    "  for _, row in top_books.iterrows():\n",
    "      html_content += f'''\n",
    "      <tr>\n",
    "        <td style=\"border: 1px solid #dddddd; padding: 8px;\">{row['title']}</td>\n",
    "        <td style=\"border: 1px solid #dddddd; padding: 8px;\">{row['authors']}</td>\n",
    "        <td style=\"border: 1px solid #dddddd; padding: 8px;\">{row['average_rating']}</td>\n",
    "        <td style=\"border: 1px solid #dddddd; padding: 8px;\">\n",
    "          <img src=\"{row['image_url']}\" alt=\"Book image\" style=\"width: 50px; height: 75px;\">\n",
    "        </td>\n",
    "      </tr>\n",
    "      '''\n",
    "\n",
    "  # Cerrar la tabla\n",
    "  html_content += '''\n",
    "    </tbody>\n",
    "  </table>\n",
    "  '''\n",
    "\n",
    "  # Mostrar el contenido HTML con estilo\n",
    "  return html_content\n"
   ]
  },
  {
   "cell_type": "markdown",
   "metadata": {},
   "source": [
    "### Mostrar libros con mejores valoraciones"
   ]
  },
  {
   "cell_type": "code",
   "execution_count": null,
   "metadata": {},
   "outputs": [],
   "source": [
    "# Obtener los 5 libros con mayor valoración\n",
    "top_books = df_books.nlargest(5, 'average_rating')[['title', 'authors', 'average_rating', 'image_url']]\n",
    "\n",
    "# Mostrar el contenido en HTML\n",
    "HTML(create_html(top_books))"
   ]
  },
  {
   "cell_type": "markdown",
   "metadata": {},
   "source": [
    "### Mostrar libros más populares\n",
    "Elegimos los libros más populares basándonos en los libros con más valoraciones"
   ]
  },
  {
   "cell_type": "code",
   "execution_count": null,
   "metadata": {},
   "outputs": [],
   "source": [
    "# Obtener los 5 libros con mayor número de valoraciones\n",
    "popular_books = df_books.nlargest(5, 'ratings_count')[['title', 'authors', 'average_rating', 'image_url']]\n",
    "\n",
    "# Mostrar el contenido en HTML\n",
    "HTML(create_html(popular_books))"
   ]
  },
  {
   "cell_type": "markdown",
   "metadata": {},
   "source": [
    "### Matriz de correlación del dataset de libros\n",
    "Mediante esta podemos ver que características númericas influyen en la valoración de nuestros usuarios y asi poder centrarnos en esta a la hora de realizar nuestro sistema"
   ]
  },
  {
   "cell_type": "code",
   "execution_count": null,
   "metadata": {},
   "outputs": [],
   "source": [
    "df_books.info()"
   ]
  },
  {
   "cell_type": "code",
   "execution_count": null,
   "metadata": {},
   "outputs": [],
   "source": [
    "df = df_books.copy()\n",
    "df = df.drop(['title', 'authors', 'language_code', 'image_url','small_image_url'], axis=1)\n",
    "\n",
    "\n",
    "# Generar el gráfico de correlación entre las características de los libros\n",
    "plt.figure(figsize=(10, 8))\n",
    "sns.heatmap(df.corr(), annot=True, cmap='coolwarm', fmt=\".2f\")\n",
    "plt.title('Relación entre las características númericas de los libros')\n",
    "plt.show()\n"
   ]
  },
  {
   "cell_type": "markdown",
   "metadata": {},
   "source": [
    "### Autores con más libros"
   ]
  },
  {
   "cell_type": "code",
   "execution_count": null,
   "metadata": {},
   "outputs": [],
   "source": [
    "# Autores con más número de libros\n",
    "books_autor = df_books['authors'].value_counts().head(5)\n",
    "\n",
    "# Visualizamos los autores con más libros\n",
    "plt.figure(figsize=(8,6))\n",
    "books_autor.plot(kind='bar', color='salmon', edgecolor='black')\n",
    "plt.title('Autores con más número de libros')\n",
    "plt.xlabel('Autores')\n",
    "plt.ylabel('Número de libros')\n",
    "plt.show()"
   ]
  },
  {
   "cell_type": "markdown",
   "metadata": {},
   "source": [
    "### Autores con mejores valoraciones"
   ]
  },
  {
   "cell_type": "code",
   "execution_count": null,
   "metadata": {},
   "outputs": [],
   "source": [
    "\n",
    "# Agrupar por autor y calcular el número de libros y la media de valoraciones\n",
    "author_stats = df_books.groupby('authors').agg(\n",
    "    num_books=('book_id', 'count'),\n",
    "    avg_rating=('average_rating', 'mean')\n",
    ").reset_index()\n",
    "\n",
    "# Filtrar autores con al menos un número mínimo de libros (e.g., 3 libros)\n",
    "min_books = 10\n",
    "top_authors = author_stats[author_stats['num_books'] >= min_books]\n",
    "\n",
    "# Ordenar por la media de valoraciones\n",
    "top_authors = top_authors.sort_values(by='avg_rating', ascending=False).head(10)\n",
    "\n",
    "# Graficar los autores con mejor nota media y al menos 3 libros\n",
    "plt.figure(figsize=(10,6))\n",
    "plt.barh(top_authors['authors'], top_authors['avg_rating'], color='skyblue', edgecolor='black')\n",
    "plt.title('Mejores autores por número de libros y valoración media')\n",
    "plt.xlabel('Valoración media')\n",
    "plt.ylabel('Autores')\n",
    "plt.gca().invert_yaxis()  # Invertir el eje Y para que el mejor esté arriba\n",
    "plt.grid(True)\n",
    "plt.tight_layout()\n",
    "plt.show()"
   ]
  },
  {
   "cell_type": "markdown",
   "metadata": {},
   "source": [
    "### Distribución de la nota media"
   ]
  },
  {
   "cell_type": "code",
   "execution_count": null,
   "metadata": {},
   "outputs": [],
   "source": [
    "# Graficar la distribución de las valoraciones promedio\n",
    "plt.figure(figsize=(8,6))\n",
    "plt.hist(df_books['average_rating'], bins=10, color='skyblue', edgecolor='black')\n",
    "plt.title('Distribución de las valoraciones promedio')\n",
    "plt.xlabel('Average Rating')\n",
    "plt.ylabel('Frecuencia')\n",
    "plt.grid(True)\n",
    "plt.show()"
   ]
  },
  {
   "cell_type": "markdown",
   "metadata": {},
   "source": [
    "### Relación entre Número de valoraciones y valoración promedio"
   ]
  },
  {
   "cell_type": "code",
   "execution_count": null,
   "metadata": {},
   "outputs": [],
   "source": [
    "# Graficar la relación entre el número de valoraciones y la valoración promedio\n",
    "\n",
    "plt.figure(figsize=(10,6))\n",
    "\n",
    "# Graficar con escala logarítmica en el eje de valoraciones y transparencia en los puntos\n",
    "plt.scatter(df_books['ratings_count'], df_books['average_rating'], color='green', alpha=0.5, edgecolor='black')\n",
    "\n",
    "# Escala logarítmica en el eje X para mejor distribución de los datos\n",
    "plt.xscale('log')\n",
    "\n",
    "plt.title('Relación: número de valoraciones y valoración promedio')\n",
    "plt.xlabel('Número de valoraciones (escala logarítmica)')\n",
    "plt.ylabel('Valoración promedio')\n",
    "\n",
    "plt.grid(True)\n",
    "plt.tight_layout()\n",
    "plt.show()"
   ]
  },
  {
   "cell_type": "markdown",
   "metadata": {},
   "source": [
    "### Géneros con más libros"
   ]
  },
  {
   "cell_type": "code",
   "execution_count": 23,
   "metadata": {},
   "outputs": [],
   "source": [
    "# Contar el número de libros por género\n",
    "tag_genres_count = tag_genres.groupby('tag_name').count()\n",
    "tag_genres_count.sort_values(by='book_id', ascending=False, inplace=True)\n",
    "tag_genres_count = tag_genres_count.rename(columns={'book_id': 'num_books'})\n"
   ]
  },
  {
   "cell_type": "code",
   "execution_count": null,
   "metadata": {},
   "outputs": [],
   "source": [
    "\n",
    "# Graficar los géneros más comunes\n",
    "plt.figure(figsize=(40,20))\n",
    "tag_genres_count.plot(kind='bar', color='skyblue', edgecolor='black')\n",
    "plt.title('Número de libros por género')\n",
    "plt.xlabel('Género')\n",
    "plt.ylabel('Número de libros')\n",
    "plt.tight_layout()\n",
    "plt.show()"
   ]
  },
  {
   "cell_type": "markdown",
   "metadata": {},
   "source": [
    "### Libros más añadidos a \"To read\""
   ]
  },
  {
   "cell_type": "code",
   "execution_count": null,
   "metadata": {},
   "outputs": [],
   "source": [
    "# Unir los libros con los libros en to read\n",
    "book_to_read = df_to_read.merge(df_books, on='book_id')\n",
    "\n",
    "# Libros más añadidos a las listas de \"leer más tarde\"\n",
    "books_most_added = book_to_read['title'].value_counts().head(10)\n",
    "\n",
    "\n",
    "# Gráfico de libros más añadidos\n",
    "plt.figure(figsize=(10,6))\n",
    "books_most_added.plot(kind='barh', color='skyblue')\n",
    "plt.title('Libros más añadidos a las listas de \"leer más tarde\"')\n",
    "plt.xlabel('Veces añadido')\n",
    "plt.gca().invert_yaxis()  # Invertir el eje para que el más añadido esté arriba\n",
    "plt.tight_layout()\n",
    "plt.grid(True)\n",
    "plt.show()"
   ]
  },
  {
   "cell_type": "markdown",
   "metadata": {},
   "source": [
    "### Autores cuyos libros más aparecen en listas \"To Read\""
   ]
  },
  {
   "cell_type": "code",
   "execution_count": null,
   "metadata": {},
   "outputs": [],
   "source": [
    "# Autores más añadidos a las listas de \"leer más tarde\"\n",
    "authors_most_added = book_to_read['authors'].value_counts().head(10)\n",
    "\n",
    "# Gráfico de autores más añadidos\n",
    "plt.figure(figsize=(10,6))\n",
    "authors_most_added.plot(kind='barh', color='lightgreen')\n",
    "plt.title('Autores más añadidos a las listas de \"leer más tarde\"')\n",
    "plt.xlabel('Veces añadido')\n",
    "plt.gca().invert_yaxis()  # Invertir el eje para que el más añadido esté arriba\n",
    "plt.tight_layout()\n",
    "plt.show()"
   ]
  },
  {
   "cell_type": "markdown",
   "metadata": {},
   "source": [
    "### Distribución de libros en \"To Read\" por año de publicación"
   ]
  },
  {
   "cell_type": "code",
   "execution_count": null,
   "metadata": {},
   "outputs": [],
   "source": [
    "# Filtrar los datos para los últimos 100 años\n",
    "filtered_last_100_years = book_to_read[book_to_read['original_publication_year'] >= (2024 - 100)]\n",
    "\n",
    "# Crear el histograma para los últimos 100 años\n",
    "plt.figure(figsize=(10,6))\n",
    "plt.hist(filtered_last_100_years['original_publication_year'].dropna().astype(int), bins=40, color='lightcoral', edgecolor='black')\n",
    "plt.title('Distribución de libros en listas de \"leer más tarde\" por año de publicación')\n",
    "plt.xlabel('Año de publicación')\n",
    "plt.ylabel('Número de libros añadidos')\n",
    "plt.grid(True)\n",
    "\n",
    "plt.tight_layout()\n",
    "plt.show()"
   ]
  },
  {
   "cell_type": "markdown",
   "metadata": {},
   "source": [
    "### Guardar Datasets Preprocesados\n",
    "Tras explorar los datasets, ver su información y que características nos pueden interesar a la hora de realizar nuestro sistema de recomendación, procedemos a guardarlos."
   ]
  },
  {
   "cell_type": "code",
   "execution_count": null,
   "metadata": {},
   "outputs": [],
   "source": [
    "df_books.to_csv('clean_datasets/books.csv', index=False)\n",
    "df_ratings.to_csv('clean_datasets/ratings.csv', index=False)\n",
    "df_to_read.to_csv('clean_datasets/to_read.csv', index=False)\n",
    "tag_genres.to_csv('clean_datasets/tags.csv', index=False)"
   ]
  }
 ],
 "metadata": {
  "kernelspec": {
   "display_name": "recommender",
   "language": "python",
   "name": "python3"
  },
  "language_info": {
   "codemirror_mode": {
    "name": "ipython",
    "version": 3
   },
   "file_extension": ".py",
   "mimetype": "text/x-python",
   "name": "python",
   "nbconvert_exporter": "python",
   "pygments_lexer": "ipython3",
   "version": "3.9.19"
  }
 },
 "nbformat": 4,
 "nbformat_minor": 2
}
